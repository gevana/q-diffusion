{
 "cells": [
  {
   "cell_type": "code",
   "execution_count": 1,
   "metadata": {},
   "outputs": [],
   "source": [
    "from diffusers import StableDiffusionPipeline, UNet2DConditionModel\n"
   ]
  },
  {
   "cell_type": "code",
   "execution_count": 3,
   "metadata": {},
   "outputs": [
    {
     "data": {
      "text/plain": [
       "'0.3.0'"
      ]
     },
     "execution_count": 3,
     "metadata": {},
     "output_type": "execute_result"
    }
   ],
   "source": [
    "import diffusers\n",
    "diffusers.__version__ "
   ]
  },
  {
   "cell_type": "code",
   "execution_count": null,
   "metadata": {},
   "outputs": [
    {
     "name": "stderr",
     "output_type": "stream",
     "text": [
      "/home/nadavg/anaconda3/envs/qdiff/lib/python3.8/site-packages/huggingface_hub/file_download.py:795: FutureWarning: `resume_download` is deprecated and will be removed in version 1.0.0. Downloads always resume when possible. If you want to force a new download, use `force_download=True`.\n",
      "  warnings.warn(\n"
     ]
    },
    {
     "data": {
      "application/json": {
       "ascii": false,
       "bar_format": null,
       "colour": null,
       "elapsed": 0.010555505752563477,
       "initial": 0,
       "n": 0,
       "ncols": null,
       "nrows": null,
       "postfix": null,
       "prefix": "Fetching 23 files",
       "rate": null,
       "total": 23,
       "unit": "it",
       "unit_divisor": 1000,
       "unit_scale": false
      },
      "application/vnd.jupyter.widget-view+json": {
       "model_id": "c87d53c02217457ca7ecaf9792390520",
       "version_major": 2,
       "version_minor": 0
      },
      "text/plain": [
       "Fetching 23 files:   0%|          | 0/23 [00:00<?, ?it/s]"
      ]
     },
     "metadata": {},
     "output_type": "display_data"
    },
    {
     "data": {
      "application/json": {
       "ascii": false,
       "bar_format": null,
       "colour": null,
       "elapsed": 0.0061643123626708984,
       "initial": 0,
       "n": 0,
       "ncols": null,
       "nrows": null,
       "postfix": null,
       "prefix": "README.md",
       "rate": null,
       "total": 2674,
       "unit": "B",
       "unit_divisor": 1000,
       "unit_scale": true
      },
      "application/vnd.jupyter.widget-view+json": {
       "model_id": "8d9e4c2b39624c84addcc44cdf04de94",
       "version_major": 2,
       "version_minor": 0
      },
      "text/plain": [
       "README.md:   0%|          | 0.00/2.67k [00:00<?, ?B/s]"
      ]
     },
     "metadata": {},
     "output_type": "display_data"
    },
    {
     "data": {
      "application/json": {
       "ascii": false,
       "bar_format": null,
       "colour": null,
       "elapsed": 0.003585338592529297,
       "initial": 0,
       "n": 0,
       "ncols": null,
       "nrows": null,
       "postfix": null,
       "prefix": "(…)istic_Vision_V4.0-inpainting.safetensors",
       "rate": null,
       "total": 4265203868,
       "unit": "B",
       "unit_divisor": 1000,
       "unit_scale": true
      },
      "application/vnd.jupyter.widget-view+json": {
       "model_id": "341a2bf52ba843c499998c3149273e9b",
       "version_major": 2,
       "version_minor": 0
      },
      "text/plain": [
       "(…)istic_Vision_V4.0-inpainting.safetensors:   0%|          | 0.00/4.27G [00:00<?, ?B/s]"
      ]
     },
     "metadata": {},
     "output_type": "display_data"
    },
    {
     "data": {
      "application/json": {
       "ascii": false,
       "bar_format": null,
       "colour": null,
       "elapsed": 0.005490541458129883,
       "initial": 0,
       "n": 0,
       "ncols": null,
       "nrows": null,
       "postfix": null,
       "prefix": "Realistic_Vision_V4.0-inpainting.ckpt",
       "rate": null,
       "total": 4265479980,
       "unit": "B",
       "unit_divisor": 1000,
       "unit_scale": true
      },
      "application/vnd.jupyter.widget-view+json": {
       "model_id": "3e2a6ee0db37443e9af5d5a92fd3989b",
       "version_major": 2,
       "version_minor": 0
      },
      "text/plain": [
       "Realistic_Vision_V4.0-inpainting.ckpt:   0%|          | 0.00/4.27G [00:00<?, ?B/s]"
      ]
     },
     "metadata": {},
     "output_type": "display_data"
    },
    {
     "data": {
      "application/json": {
       "ascii": false,
       "bar_format": null,
       "colour": null,
       "elapsed": 0.00899505615234375,
       "initial": 0,
       "n": 0,
       "ncols": null,
       "nrows": null,
       "postfix": null,
       "prefix": ".gitattributes",
       "rate": null,
       "total": 1519,
       "unit": "B",
       "unit_divisor": 1000,
       "unit_scale": true
      },
      "application/vnd.jupyter.widget-view+json": {
       "model_id": "600dd3c7550c4643ad13919ff3b2154e",
       "version_major": 2,
       "version_minor": 0
      },
      "text/plain": [
       ".gitattributes:   0%|          | 0.00/1.52k [00:00<?, ?B/s]"
      ]
     },
     "metadata": {},
     "output_type": "display_data"
    },
    {
     "data": {
      "application/json": {
       "ascii": false,
       "bar_format": null,
       "colour": null,
       "elapsed": 0.004998683929443359,
       "initial": 0,
       "n": 0,
       "ncols": null,
       "nrows": null,
       "postfix": null,
       "prefix": "(…)_V4.0_fp16-no-ema-inpainting.safetensors",
       "rate": null,
       "total": 2132679782,
       "unit": "B",
       "unit_divisor": 1000,
       "unit_scale": true
      },
      "application/vnd.jupyter.widget-view+json": {
       "model_id": "d50b2ada87024ed198e3ef9a21a36070",
       "version_major": 2,
       "version_minor": 0
      },
      "text/plain": [
       "(…)_V4.0_fp16-no-ema-inpainting.safetensors:   0%|          | 0.00/2.13G [00:00<?, ?B/s]"
      ]
     },
     "metadata": {},
     "output_type": "display_data"
    },
    {
     "data": {
      "application/json": {
       "ascii": false,
       "bar_format": null,
       "colour": null,
       "elapsed": 0.004367828369140625,
       "initial": 0,
       "n": 0,
       "ncols": null,
       "nrows": null,
       "postfix": null,
       "prefix": "(…)_Vision_V4.0_fp16-no-ema-inpainting.ckpt",
       "rate": null,
       "total": 2132956447,
       "unit": "B",
       "unit_divisor": 1000,
       "unit_scale": true
      },
      "application/vnd.jupyter.widget-view+json": {
       "model_id": "af824720b7854cdbb2a1cb52f94f5370",
       "version_major": 2,
       "version_minor": 0
      },
      "text/plain": [
       "(…)_Vision_V4.0_fp16-no-ema-inpainting.ckpt:   0%|          | 0.00/2.13G [00:00<?, ?B/s]"
      ]
     },
     "metadata": {},
     "output_type": "display_data"
    },
    {
     "data": {
      "application/json": {
       "ascii": false,
       "bar_format": null,
       "colour": null,
       "elapsed": 0.003633260726928711,
       "initial": 0,
       "n": 0,
       "ncols": null,
       "nrows": null,
       "postfix": null,
       "prefix": "Realistic_Vision_V4.0.ckpt",
       "rate": null,
       "total": 4265344100,
       "unit": "B",
       "unit_divisor": 1000,
       "unit_scale": true
      },
      "application/vnd.jupyter.widget-view+json": {
       "model_id": "0618383e88794529aaffc29d441a7e01",
       "version_major": 2,
       "version_minor": 0
      },
      "text/plain": [
       "Realistic_Vision_V4.0.ckpt:   0%|          | 0.00/4.27G [00:00<?, ?B/s]"
      ]
     },
     "metadata": {},
     "output_type": "display_data"
    },
    {
     "data": {
      "application/json": {
       "ascii": false,
       "bar_format": null,
       "colour": null,
       "elapsed": 0.007974624633789062,
       "initial": 0,
       "n": 0,
       "ncols": null,
       "nrows": null,
       "postfix": null,
       "prefix": "(…)stic_Vision_V4.0_fp16-no-ema.safetensors",
       "rate": null,
       "total": 2132625894,
       "unit": "B",
       "unit_divisor": 1000,
       "unit_scale": true
      },
      "application/vnd.jupyter.widget-view+json": {
       "model_id": "56577fdbb93546b59943deae1de33b49",
       "version_major": 2,
       "version_minor": 0
      },
      "text/plain": [
       "(…)stic_Vision_V4.0_fp16-no-ema.safetensors:   0%|          | 0.00/2.13G [00:00<?, ?B/s]"
      ]
     },
     "metadata": {},
     "output_type": "display_data"
    },
    {
     "data": {
      "application/json": {
       "ascii": false,
       "bar_format": null,
       "colour": null,
       "elapsed": 0.004171609878540039,
       "initial": 0,
       "n": 0,
       "ncols": null,
       "nrows": null,
       "postfix": null,
       "prefix": "Realistic_Vision_V4.0_fp16-no-ema.ckpt",
       "rate": null,
       "total": 2132887296,
       "unit": "B",
       "unit_divisor": 1000,
       "unit_scale": true
      },
      "application/vnd.jupyter.widget-view+json": {
       "model_id": "c1968f3421ad455ea96a97c5b7fbc55a",
       "version_major": 2,
       "version_minor": 0
      },
      "text/plain": [
       "Realistic_Vision_V4.0_fp16-no-ema.ckpt:   0%|          | 0.00/2.13G [00:00<?, ?B/s]"
      ]
     },
     "metadata": {},
     "output_type": "display_data"
    },
    {
     "data": {
      "application/json": {
       "ascii": false,
       "bar_format": null,
       "colour": null,
       "elapsed": 0.004523038864135742,
       "initial": 0,
       "n": 0,
       "ncols": null,
       "nrows": null,
       "postfix": null,
       "prefix": "Realistic_Vision_V4.0.safetensors",
       "rate": null,
       "total": 4265096996,
       "unit": "B",
       "unit_divisor": 1000,
       "unit_scale": true
      },
      "application/vnd.jupyter.widget-view+json": {
       "model_id": "c5812eb91c7840229862bdf580182410",
       "version_major": 2,
       "version_minor": 0
      },
      "text/plain": [
       "Realistic_Vision_V4.0.safetensors:   0%|          | 0.00/4.27G [00:00<?, ?B/s]"
      ]
     },
     "metadata": {},
     "output_type": "display_data"
    },
    {
     "name": "stderr",
     "output_type": "stream",
     "text": [
      "Error while downloading from https://cdn-lfs.hf.co/repos/79/7d/797dc928558cd7d68dff74fa40da7d4e9950770a8e15b1df1e6560b2e50e1f5a/ba046a41a0031d31d0b42bc0c48102c276755a856e1d8fa26a28beada6903115?response-content-disposition=inline%3B+filename*%3DUTF-8%27%27Realistic_Vision_V4.0_fp16-no-ema.safetensors%3B+filename%3D%22Realistic_Vision_V4.0_fp16-no-ema.safetensors%22%3B&Expires=1740579044&Policy=eyJTdGF0ZW1lbnQiOlt7IkNvbmRpdGlvbiI6eyJEYXRlTGVzc1RoYW4iOnsiQVdTOkVwb2NoVGltZSI6MTc0MDU3OTA0NH19LCJSZXNvdXJjZSI6Imh0dHBzOi8vY2RuLWxmcy5oZi5jby9yZXBvcy83OS83ZC83OTdkYzkyODU1OGNkN2Q2OGRmZjc0ZmE0MGRhN2Q0ZTk5NTA3NzBhOGUxNWIxZGYxZTY1NjBiMmU1MGUxZjVhL2JhMDQ2YTQxYTAwMzFkMzFkMGI0MmJjMGM0ODEwMmMyNzY3NTVhODU2ZTFkOGZhMjZhMjhiZWFkYTY5MDMxMTU%7EcmVzcG9uc2UtY29udGVudC1kaXNwb3NpdGlvbj0qIn1dfQ__&Signature=SA0grd%7EtODRHHXSuVC5dDRccWWG0ylGsiMGIq7ZAw09oI%7EXT-Fq77%7EGXGFJYj0ws%7ELhCmkegb2iY6udCUFX55GSAAQ4PT7qXOOGQLqgmnjQekvpYU3z6YWu1ekXePwVYGX7aUD5LpeQhODK-8-56ZwB4fYgWZPrQI8zG0WaFzP4kZ39PwaBbOFNLpkZ2XxN1AGa8YGVSzJMVNCNLZ8rgycSgt2ZZytQz8cR0tyNInZ7B5vK32xq8fW19ByQOwVvAjZpCLBk8uYHZvnItP319eAmuMRILizQi%7EvOlKI7P3e-dUjSstcIsMMd91xWXIFvXLrj9Wq4DaQ-CApLCS03b0A__&Key-Pair-Id=K3RPWS32NSSJCE: HTTPSConnectionPool(host='cdn-lfs.hf.co', port=443): Read timed out.\n",
      "Trying to resume download...\n"
     ]
    },
    {
     "data": {
      "application/json": {
       "ascii": false,
       "bar_format": null,
       "colour": null,
       "elapsed": 0.005143404006958008,
       "initial": 10485760,
       "n": 10485760,
       "ncols": null,
       "nrows": null,
       "postfix": null,
       "prefix": "(…)stic_Vision_V4.0_fp16-no-ema.safetensors",
       "rate": null,
       "total": 2132625894,
       "unit": "B",
       "unit_divisor": 1000,
       "unit_scale": true
      },
      "application/vnd.jupyter.widget-view+json": {
       "model_id": "2487fb86f4bb4840886e6c691f24158a",
       "version_major": 2,
       "version_minor": 0
      },
      "text/plain": [
       "(…)stic_Vision_V4.0_fp16-no-ema.safetensors:   0%|          | 10.5M/2.13G [00:00<?, ?B/s]"
      ]
     },
     "metadata": {},
     "output_type": "display_data"
    },
    {
     "name": "stderr",
     "output_type": "stream",
     "text": [
      "Error while downloading from https://cdn-lfs.hf.co/repos/79/7d/797dc928558cd7d68dff74fa40da7d4e9950770a8e15b1df1e6560b2e50e1f5a/00c237d3d92ddbd1d055eb17a2d0cf6c311b40246b3f7086fb19109530ccb200?response-content-disposition=inline%3B+filename*%3DUTF-8%27%27Realistic_Vision_V4.0_fp16-no-ema.ckpt%3B+filename%3D%22Realistic_Vision_V4.0_fp16-no-ema.ckpt%22%3B&Expires=1740579044&Policy=eyJTdGF0ZW1lbnQiOlt7IkNvbmRpdGlvbiI6eyJEYXRlTGVzc1RoYW4iOnsiQVdTOkVwb2NoVGltZSI6MTc0MDU3OTA0NH19LCJSZXNvdXJjZSI6Imh0dHBzOi8vY2RuLWxmcy5oZi5jby9yZXBvcy83OS83ZC83OTdkYzkyODU1OGNkN2Q2OGRmZjc0ZmE0MGRhN2Q0ZTk5NTA3NzBhOGUxNWIxZGYxZTY1NjBiMmU1MGUxZjVhLzAwYzIzN2QzZDkyZGRiZDFkMDU1ZWIxN2EyZDBjZjZjMzExYjQwMjQ2YjNmNzA4NmZiMTkxMDk1MzBjY2IyMDA%7EcmVzcG9uc2UtY29udGVudC1kaXNwb3NpdGlvbj0qIn1dfQ__&Signature=BYKmL-c%7EYSBbUqrX1n-H0GJ-%7EPxnv%7EhyFgSWOs5JYEmfz95axqqG9kE-1XHKg5EFCsZkHqawK9IfWX0%7Eim%7Eo3p3ZKuH35hGUsd24pYsmJh%7EtsEUEmo9IFqrmMKYnaZhRcm68HbNEfZSdBhpcf1Jx%7EG4ifKwxxZznaKQhXIWfLATEv2LM-go9FD5%7EDAhJbLvK71t-fZdNXOik3ldx7h6XckD89V2UdmQ0t8MXKDg2S8s2s7YejadqbUbjPIplq3vib7esjxzKVyECOOdYOkwAY7NgyYsFcihWalUluBGUEaGCDg9-344cHiym-TEZLFCQ7spg2o14zSrNTpBDQkgBuQ__&Key-Pair-Id=K3RPWS32NSSJCE: HTTPSConnectionPool(host='cdn-lfs.hf.co', port=443): Read timed out.\n",
      "Trying to resume download...\n",
      "Error while downloading from https://cdn-lfs.hf.co/repos/79/7d/797dc928558cd7d68dff74fa40da7d4e9950770a8e15b1df1e6560b2e50e1f5a/96ad210fd14df974b5d3ebac788b7ecac9fea66852fd9af66d8e5bac66d93c32?response-content-disposition=inline%3B+filename*%3DUTF-8%27%27Realistic_Vision_V4.0-inpainting.safetensors%3B+filename%3D%22Realistic_Vision_V4.0-inpainting.safetensors%22%3B&Expires=1740579044&Policy=eyJTdGF0ZW1lbnQiOlt7IkNvbmRpdGlvbiI6eyJEYXRlTGVzc1RoYW4iOnsiQVdTOkVwb2NoVGltZSI6MTc0MDU3OTA0NH19LCJSZXNvdXJjZSI6Imh0dHBzOi8vY2RuLWxmcy5oZi5jby9yZXBvcy83OS83ZC83OTdkYzkyODU1OGNkN2Q2OGRmZjc0ZmE0MGRhN2Q0ZTk5NTA3NzBhOGUxNWIxZGYxZTY1NjBiMmU1MGUxZjVhLzk2YWQyMTBmZDE0ZGY5NzRiNWQzZWJhYzc4OGI3ZWNhYzlmZWE2Njg1MmZkOWFmNjZkOGU1YmFjNjZkOTNjMzI%7EcmVzcG9uc2UtY29udGVudC1kaXNwb3NpdGlvbj0qIn1dfQ__&Signature=hLi2OTu8G3EvLCcfdu0cq1mpJjcyb3oqAhviujOX7L0767DFDeQDXLGIlm3N56roQwekwgFt9UfR685L2DOtdgye7oTa12CzsaeDbad3Qx4%7EMzdhIGxkepEP%7Exn1-iKCgyDCxg1bcy%7E2gOrKnevuNiLB5t6UuQtdMM4ZiLBAPEkcvKQBgU7bdbM1CB75nrNbuU8RiB8zuDirHdQbQFUx4tHGKs6yuujqcA6u3TkYmwG8DgTn1t0yql6BnILyBYDllkOqKD5F46e0BAPSpJF4il7TeqhJjjVPSLtmVU9vHaIEDeOWk54msj1WD1thLnw8bUS2-y2-kmJ%7EU%7EIvwUL99g__&Key-Pair-Id=K3RPWS32NSSJCE: HTTPSConnectionPool(host='cdn-lfs.hf.co', port=443): Read timed out.\n",
      "Trying to resume download...\n"
     ]
    },
    {
     "data": {
      "application/json": {
       "ascii": false,
       "bar_format": null,
       "colour": null,
       "elapsed": 0.004364013671875,
       "initial": 20971520,
       "n": 20971520,
       "ncols": null,
       "nrows": null,
       "postfix": null,
       "prefix": "(…)istic_Vision_V4.0-inpainting.safetensors",
       "rate": null,
       "total": 4265203868,
       "unit": "B",
       "unit_divisor": 1000,
       "unit_scale": true
      },
      "application/vnd.jupyter.widget-view+json": {
       "model_id": "f9c30ebe5cd64abeb1d83874086f5d9d",
       "version_major": 2,
       "version_minor": 0
      },
      "text/plain": [
       "(…)istic_Vision_V4.0-inpainting.safetensors:   0%|          | 21.0M/4.27G [00:00<?, ?B/s]"
      ]
     },
     "metadata": {},
     "output_type": "display_data"
    },
    {
     "data": {
      "application/json": {
       "ascii": false,
       "bar_format": null,
       "colour": null,
       "elapsed": 0.005720615386962891,
       "initial": 10485760,
       "n": 10485760,
       "ncols": null,
       "nrows": null,
       "postfix": null,
       "prefix": "Realistic_Vision_V4.0_fp16-no-ema.ckpt",
       "rate": null,
       "total": 2132887296,
       "unit": "B",
       "unit_divisor": 1000,
       "unit_scale": true
      },
      "application/vnd.jupyter.widget-view+json": {
       "model_id": "47a187bd646e4ca2a3910181df325f68",
       "version_major": 2,
       "version_minor": 0
      },
      "text/plain": [
       "Realistic_Vision_V4.0_fp16-no-ema.ckpt:   0%|          | 10.5M/2.13G [00:00<?, ?B/s]"
      ]
     },
     "metadata": {},
     "output_type": "display_data"
    },
    {
     "name": "stderr",
     "output_type": "stream",
     "text": [
      "Error while downloading from https://cdn-lfs.hf.co/repos/79/7d/797dc928558cd7d68dff74fa40da7d4e9950770a8e15b1df1e6560b2e50e1f5a/ba046a41a0031d31d0b42bc0c48102c276755a856e1d8fa26a28beada6903115?response-content-disposition=inline%3B+filename*%3DUTF-8%27%27Realistic_Vision_V4.0_fp16-no-ema.safetensors%3B+filename%3D%22Realistic_Vision_V4.0_fp16-no-ema.safetensors%22%3B&Expires=1740579044&Policy=eyJTdGF0ZW1lbnQiOlt7IkNvbmRpdGlvbiI6eyJEYXRlTGVzc1RoYW4iOnsiQVdTOkVwb2NoVGltZSI6MTc0MDU3OTA0NH19LCJSZXNvdXJjZSI6Imh0dHBzOi8vY2RuLWxmcy5oZi5jby9yZXBvcy83OS83ZC83OTdkYzkyODU1OGNkN2Q2OGRmZjc0ZmE0MGRhN2Q0ZTk5NTA3NzBhOGUxNWIxZGYxZTY1NjBiMmU1MGUxZjVhL2JhMDQ2YTQxYTAwMzFkMzFkMGI0MmJjMGM0ODEwMmMyNzY3NTVhODU2ZTFkOGZhMjZhMjhiZWFkYTY5MDMxMTU%7EcmVzcG9uc2UtY29udGVudC1kaXNwb3NpdGlvbj0qIn1dfQ__&Signature=SA0grd%7EtODRHHXSuVC5dDRccWWG0ylGsiMGIq7ZAw09oI%7EXT-Fq77%7EGXGFJYj0ws%7ELhCmkegb2iY6udCUFX55GSAAQ4PT7qXOOGQLqgmnjQekvpYU3z6YWu1ekXePwVYGX7aUD5LpeQhODK-8-56ZwB4fYgWZPrQI8zG0WaFzP4kZ39PwaBbOFNLpkZ2XxN1AGa8YGVSzJMVNCNLZ8rgycSgt2ZZytQz8cR0tyNInZ7B5vK32xq8fW19ByQOwVvAjZpCLBk8uYHZvnItP319eAmuMRILizQi%7EvOlKI7P3e-dUjSstcIsMMd91xWXIFvXLrj9Wq4DaQ-CApLCS03b0A__&Key-Pair-Id=K3RPWS32NSSJCE: HTTPSConnectionPool(host='cdn-lfs.hf.co', port=443): Read timed out.\n",
      "Trying to resume download...\n"
     ]
    },
    {
     "data": {
      "application/json": {
       "ascii": false,
       "bar_format": null,
       "colour": null,
       "elapsed": 0.004228830337524414,
       "initial": 20971520,
       "n": 20971520,
       "ncols": null,
       "nrows": null,
       "postfix": null,
       "prefix": "(…)stic_Vision_V4.0_fp16-no-ema.safetensors",
       "rate": null,
       "total": 2132625894,
       "unit": "B",
       "unit_divisor": 1000,
       "unit_scale": true
      },
      "application/vnd.jupyter.widget-view+json": {
       "model_id": "b73b2265e5244525a7b2210771a08149",
       "version_major": 2,
       "version_minor": 0
      },
      "text/plain": [
       "(…)stic_Vision_V4.0_fp16-no-ema.safetensors:   1%|          | 21.0M/2.13G [00:00<?, ?B/s]"
      ]
     },
     "metadata": {},
     "output_type": "display_data"
    },
    {
     "name": "stderr",
     "output_type": "stream",
     "text": [
      "Error while downloading from https://cdn-lfs.hf.co/repos/79/7d/797dc928558cd7d68dff74fa40da7d4e9950770a8e15b1df1e6560b2e50e1f5a/2f639f6254239b32bad84158f6524d5b7bbcd0b2f4ccf9c6f3f4136aa5e944bc?response-content-disposition=inline%3B+filename*%3DUTF-8%27%27Realistic_Vision_V4.0.ckpt%3B+filename%3D%22Realistic_Vision_V4.0.ckpt%22%3B&Expires=1740579044&Policy=eyJTdGF0ZW1lbnQiOlt7IkNvbmRpdGlvbiI6eyJEYXRlTGVzc1RoYW4iOnsiQVdTOkVwb2NoVGltZSI6MTc0MDU3OTA0NH19LCJSZXNvdXJjZSI6Imh0dHBzOi8vY2RuLWxmcy5oZi5jby9yZXBvcy83OS83ZC83OTdkYzkyODU1OGNkN2Q2OGRmZjc0ZmE0MGRhN2Q0ZTk5NTA3NzBhOGUxNWIxZGYxZTY1NjBiMmU1MGUxZjVhLzJmNjM5ZjYyNTQyMzliMzJiYWQ4NDE1OGY2NTI0ZDViN2JiY2QwYjJmNGNjZjljNmYzZjQxMzZhYTVlOTQ0YmM%7EcmVzcG9uc2UtY29udGVudC1kaXNwb3NpdGlvbj0qIn1dfQ__&Signature=QXJVtb%7E8eX%7ECRHg3vXZzBepOub-E2Oo3Iael0mnZVvsRMyCir0Ql%7EwHEuA7mejFgHMsRaBdAGMXdw7qKTV1sd7RT2TD36jYysMWLXQgaGdNP1oTMfQac2jHO6AQ-Ykw%7EROeV0FlkDM5RXpBW2WF9D5LryWQ3M2cbFHYwu2wS%7EWNxAqo250z9MudLoLKJkHaX%7E4mn1vinOIyQSSFkEJa7icKeILQ8dZ%7EynA6KycIxf-tD3YAQGVxS0-uHpdqwQOA%7Ev%7EBFWxEsGfD94oo3gnT7JbpU-eG2euxsPPwyN87WW1i45Dr32V5PAjFGPSxWvNlte2kHDNUzdl4tCUtMt5%7EH8A__&Key-Pair-Id=K3RPWS32NSSJCE: HTTPSConnectionPool(host='cdn-lfs.hf.co', port=443): Read timed out.\n",
      "Trying to resume download...\n",
      "Error while downloading from https://cdn-lfs.hf.co/repos/79/7d/797dc928558cd7d68dff74fa40da7d4e9950770a8e15b1df1e6560b2e50e1f5a/b2b971f639658b1ff1146e83a5947b88d0abb05b56431f9be0ad0bf43bc2a275?response-content-disposition=inline%3B+filename*%3DUTF-8%27%27Realistic_Vision_V4.0_fp16-no-ema-inpainting.safetensors%3B+filename%3D%22Realistic_Vision_V4.0_fp16-no-ema-inpainting.safetensors%22%3B&Expires=1740579044&Policy=eyJTdGF0ZW1lbnQiOlt7IkNvbmRpdGlvbiI6eyJEYXRlTGVzc1RoYW4iOnsiQVdTOkVwb2NoVGltZSI6MTc0MDU3OTA0NH19LCJSZXNvdXJjZSI6Imh0dHBzOi8vY2RuLWxmcy5oZi5jby9yZXBvcy83OS83ZC83OTdkYzkyODU1OGNkN2Q2OGRmZjc0ZmE0MGRhN2Q0ZTk5NTA3NzBhOGUxNWIxZGYxZTY1NjBiMmU1MGUxZjVhL2IyYjk3MWY2Mzk2NThiMWZmMTE0NmU4M2E1OTQ3Yjg4ZDBhYmIwNWI1NjQzMWY5YmUwYWQwYmY0M2JjMmEyNzU%7EcmVzcG9uc2UtY29udGVudC1kaXNwb3NpdGlvbj0qIn1dfQ__&Signature=tL6RhZjcOVDqNxyXuDc-tiEg27iSpBXS5HLhuAa44jMeS7WAASp5mNuRDHqJ3HGKqXIzzakSK1TKVpdFtCKYs1htOkF9VfXb1XnR8wH6DFS38QR1VWsuEpiQHgRjmwr0%7ECJIZroNJ9CPJnZxu%7ERrILL98BiPssRVfj9j-2B6QoI8O4pL3M7P1M6JC9FeH5R8rqrwE-oXqcHAzmnOX26ar5FjMm9%7EI25lKJ89oCIkrjIJ90cnYkqLS-OlYUStQQvqRZJqBRiob9pJx-u4P%7EmLVM8s4A8UN7Qtr92tqWL4Shy3sx3RAR97ZmMI3nl7OIBxLSbTfSEy3859xiEz5FV41w__&Key-Pair-Id=K3RPWS32NSSJCE: HTTPSConnectionPool(host='cdn-lfs.hf.co', port=443): Read timed out.\n",
      "Trying to resume download...\n"
     ]
    },
    {
     "data": {
      "application/json": {
       "ascii": false,
       "bar_format": null,
       "colour": null,
       "elapsed": 0.006043195724487305,
       "initial": 41943040,
       "n": 41943040,
       "ncols": null,
       "nrows": null,
       "postfix": null,
       "prefix": "Realistic_Vision_V4.0.ckpt",
       "rate": null,
       "total": 4265344100,
       "unit": "B",
       "unit_divisor": 1000,
       "unit_scale": true
      },
      "application/vnd.jupyter.widget-view+json": {
       "model_id": "6c4b7f22e52d4665bcc00c808859f5a0",
       "version_major": 2,
       "version_minor": 0
      },
      "text/plain": [
       "Realistic_Vision_V4.0.ckpt:   1%|          | 41.9M/4.27G [00:00<?, ?B/s]"
      ]
     },
     "metadata": {},
     "output_type": "display_data"
    },
    {
     "data": {
      "application/json": {
       "ascii": false,
       "bar_format": null,
       "colour": null,
       "elapsed": 0.005449533462524414,
       "initial": 31457280,
       "n": 31457280,
       "ncols": null,
       "nrows": null,
       "postfix": null,
       "prefix": "(…)_V4.0_fp16-no-ema-inpainting.safetensors",
       "rate": null,
       "total": 2132679782,
       "unit": "B",
       "unit_divisor": 1000,
       "unit_scale": true
      },
      "application/vnd.jupyter.widget-view+json": {
       "model_id": "0d481ca4a66b4c33b0effa7d8152b80e",
       "version_major": 2,
       "version_minor": 0
      },
      "text/plain": [
       "(…)_V4.0_fp16-no-ema-inpainting.safetensors:   1%|1         | 31.5M/2.13G [00:00<?, ?B/s]"
      ]
     },
     "metadata": {},
     "output_type": "display_data"
    },
    {
     "name": "stderr",
     "output_type": "stream",
     "text": [
      "Error while downloading from https://cdn-lfs.hf.co/repos/79/7d/797dc928558cd7d68dff74fa40da7d4e9950770a8e15b1df1e6560b2e50e1f5a/ab0de91e505f9199ad058a832134b3c93561ca4b4d5ecee0ea21fb0c6a2d6c39?response-content-disposition=inline%3B+filename*%3DUTF-8%27%27Realistic_Vision_V4.0.safetensors%3B+filename%3D%22Realistic_Vision_V4.0.safetensors%22%3B&Expires=1740579044&Policy=eyJTdGF0ZW1lbnQiOlt7IkNvbmRpdGlvbiI6eyJEYXRlTGVzc1RoYW4iOnsiQVdTOkVwb2NoVGltZSI6MTc0MDU3OTA0NH19LCJSZXNvdXJjZSI6Imh0dHBzOi8vY2RuLWxmcy5oZi5jby9yZXBvcy83OS83ZC83OTdkYzkyODU1OGNkN2Q2OGRmZjc0ZmE0MGRhN2Q0ZTk5NTA3NzBhOGUxNWIxZGYxZTY1NjBiMmU1MGUxZjVhL2FiMGRlOTFlNTA1ZjkxOTlhZDA1OGE4MzIxMzRiM2M5MzU2MWNhNGI0ZDVlY2VlMGVhMjFmYjBjNmEyZDZjMzk%7EcmVzcG9uc2UtY29udGVudC1kaXNwb3NpdGlvbj0qIn1dfQ__&Signature=c3OSnSqgU79l71PKfMYnw1NFmRrjN0pTpbGQopE4FwBYm-YE4t1KaOuXeha4xQ-qkxXT%7EJ93NKB6bs883xQ%7Ezs8lbV255WfEJXnAOPz%7EvVuqds5eEAbTo%7EYxcKmLCwL54NIRz7sdcwofztAGW3Jf7dS2PlzCRWmlNmnyIhm%7E%7Em3pKUNiCS0D3G5UTpcv5IaFU9dKmTDla4APonY26KDiZnUEE-P8wswrEgGNuR4g%7ECgB9N2XgMVHekGKUVFsL2-XaTYHOgSNA%7EL0sUCp8ocDKz3DsD9xobZVBUaluiAknW%7EFqHf01NqXcPlcab9kzLjHOXRdBLfKgmjNozbIP1pCVw__&Key-Pair-Id=K3RPWS32NSSJCE: HTTPSConnectionPool(host='cdn-lfs.hf.co', port=443): Read timed out.\n",
      "Trying to resume download...\n"
     ]
    },
    {
     "data": {
      "application/json": {
       "ascii": false,
       "bar_format": null,
       "colour": null,
       "elapsed": 0.004424095153808594,
       "initial": 31457280,
       "n": 31457280,
       "ncols": null,
       "nrows": null,
       "postfix": null,
       "prefix": "Realistic_Vision_V4.0.safetensors",
       "rate": null,
       "total": 4265096996,
       "unit": "B",
       "unit_divisor": 1000,
       "unit_scale": true
      },
      "application/vnd.jupyter.widget-view+json": {
       "model_id": "6456f033997145bfbb0de1c47c774638",
       "version_major": 2,
       "version_minor": 0
      },
      "text/plain": [
       "Realistic_Vision_V4.0.safetensors:   1%|          | 31.5M/4.27G [00:00<?, ?B/s]"
      ]
     },
     "metadata": {},
     "output_type": "display_data"
    },
    {
     "name": "stderr",
     "output_type": "stream",
     "text": [
      "Error while downloading from https://cdn-lfs.hf.co/repos/79/7d/797dc928558cd7d68dff74fa40da7d4e9950770a8e15b1df1e6560b2e50e1f5a/96ad210fd14df974b5d3ebac788b7ecac9fea66852fd9af66d8e5bac66d93c32?response-content-disposition=inline%3B+filename*%3DUTF-8%27%27Realistic_Vision_V4.0-inpainting.safetensors%3B+filename%3D%22Realistic_Vision_V4.0-inpainting.safetensors%22%3B&Expires=1740579044&Policy=eyJTdGF0ZW1lbnQiOlt7IkNvbmRpdGlvbiI6eyJEYXRlTGVzc1RoYW4iOnsiQVdTOkVwb2NoVGltZSI6MTc0MDU3OTA0NH19LCJSZXNvdXJjZSI6Imh0dHBzOi8vY2RuLWxmcy5oZi5jby9yZXBvcy83OS83ZC83OTdkYzkyODU1OGNkN2Q2OGRmZjc0ZmE0MGRhN2Q0ZTk5NTA3NzBhOGUxNWIxZGYxZTY1NjBiMmU1MGUxZjVhLzk2YWQyMTBmZDE0ZGY5NzRiNWQzZWJhYzc4OGI3ZWNhYzlmZWE2Njg1MmZkOWFmNjZkOGU1YmFjNjZkOTNjMzI%7EcmVzcG9uc2UtY29udGVudC1kaXNwb3NpdGlvbj0qIn1dfQ__&Signature=hLi2OTu8G3EvLCcfdu0cq1mpJjcyb3oqAhviujOX7L0767DFDeQDXLGIlm3N56roQwekwgFt9UfR685L2DOtdgye7oTa12CzsaeDbad3Qx4%7EMzdhIGxkepEP%7Exn1-iKCgyDCxg1bcy%7E2gOrKnevuNiLB5t6UuQtdMM4ZiLBAPEkcvKQBgU7bdbM1CB75nrNbuU8RiB8zuDirHdQbQFUx4tHGKs6yuujqcA6u3TkYmwG8DgTn1t0yql6BnILyBYDllkOqKD5F46e0BAPSpJF4il7TeqhJjjVPSLtmVU9vHaIEDeOWk54msj1WD1thLnw8bUS2-y2-kmJ%7EU%7EIvwUL99g__&Key-Pair-Id=K3RPWS32NSSJCE: HTTPSConnectionPool(host='cdn-lfs.hf.co', port=443): Read timed out.\n",
      "Trying to resume download...\n",
      "Error while downloading from https://cdn-lfs.hf.co/repos/79/7d/797dc928558cd7d68dff74fa40da7d4e9950770a8e15b1df1e6560b2e50e1f5a/31410211e1f296d58fc332f7320e0e42dea260fd1de7f684277887f6c291b805?response-content-disposition=inline%3B+filename*%3DUTF-8%27%27Realistic_Vision_V4.0_fp16-no-ema-inpainting.ckpt%3B+filename%3D%22Realistic_Vision_V4.0_fp16-no-ema-inpainting.ckpt%22%3B&Expires=1740579044&Policy=eyJTdGF0ZW1lbnQiOlt7IkNvbmRpdGlvbiI6eyJEYXRlTGVzc1RoYW4iOnsiQVdTOkVwb2NoVGltZSI6MTc0MDU3OTA0NH19LCJSZXNvdXJjZSI6Imh0dHBzOi8vY2RuLWxmcy5oZi5jby9yZXBvcy83OS83ZC83OTdkYzkyODU1OGNkN2Q2OGRmZjc0ZmE0MGRhN2Q0ZTk5NTA3NzBhOGUxNWIxZGYxZTY1NjBiMmU1MGUxZjVhLzMxNDEwMjExZTFmMjk2ZDU4ZmMzMzJmNzMyMGUwZTQyZGVhMjYwZmQxZGU3ZjY4NDI3Nzg4N2Y2YzI5MWI4MDU%7EcmVzcG9uc2UtY29udGVudC1kaXNwb3NpdGlvbj0qIn1dfQ__&Signature=l8fsdomSbO3azA%7E9N2pjhj2vdqsYfnX%7EXkIIGaC2UjyDJcVr6Ptg3VReU0XvnKLddE%7Ewg7FCmpu8qTs9CTS7siB935ujDKuzLR8zyOkGA--vzmLXjN0tbbecmysaqI8kkaF9vVkw-wbFdZ3C1pYB8okCApgwbB1RLdp-8QKJqQ1PSAJWDUMkKOAazNpUd396v2yOBPXa110sfsNTMEuomPWzRkjghygkaDFWFinr8x-1gC36Lk0TLpvhJNbc9zlzwxzbz8x1xnmffAjEZwQdVVvmQYbmMqeWsIIqc8U2Eknc4b1YD%7EjCgT1spyFYP6nTUiVhF9oiUWo9UQjb%7EU7Z3Q__&Key-Pair-Id=K3RPWS32NSSJCE: HTTPSConnectionPool(host='cdn-lfs.hf.co', port=443): Read timed out.\n",
      "Trying to resume download...\n",
      "Error while downloading from https://cdn-lfs.hf.co/repos/79/7d/797dc928558cd7d68dff74fa40da7d4e9950770a8e15b1df1e6560b2e50e1f5a/ba046a41a0031d31d0b42bc0c48102c276755a856e1d8fa26a28beada6903115?response-content-disposition=inline%3B+filename*%3DUTF-8%27%27Realistic_Vision_V4.0_fp16-no-ema.safetensors%3B+filename%3D%22Realistic_Vision_V4.0_fp16-no-ema.safetensors%22%3B&Expires=1740579044&Policy=eyJTdGF0ZW1lbnQiOlt7IkNvbmRpdGlvbiI6eyJEYXRlTGVzc1RoYW4iOnsiQVdTOkVwb2NoVGltZSI6MTc0MDU3OTA0NH19LCJSZXNvdXJjZSI6Imh0dHBzOi8vY2RuLWxmcy5oZi5jby9yZXBvcy83OS83ZC83OTdkYzkyODU1OGNkN2Q2OGRmZjc0ZmE0MGRhN2Q0ZTk5NTA3NzBhOGUxNWIxZGYxZTY1NjBiMmU1MGUxZjVhL2JhMDQ2YTQxYTAwMzFkMzFkMGI0MmJjMGM0ODEwMmMyNzY3NTVhODU2ZTFkOGZhMjZhMjhiZWFkYTY5MDMxMTU%7EcmVzcG9uc2UtY29udGVudC1kaXNwb3NpdGlvbj0qIn1dfQ__&Signature=SA0grd%7EtODRHHXSuVC5dDRccWWG0ylGsiMGIq7ZAw09oI%7EXT-Fq77%7EGXGFJYj0ws%7ELhCmkegb2iY6udCUFX55GSAAQ4PT7qXOOGQLqgmnjQekvpYU3z6YWu1ekXePwVYGX7aUD5LpeQhODK-8-56ZwB4fYgWZPrQI8zG0WaFzP4kZ39PwaBbOFNLpkZ2XxN1AGa8YGVSzJMVNCNLZ8rgycSgt2ZZytQz8cR0tyNInZ7B5vK32xq8fW19ByQOwVvAjZpCLBk8uYHZvnItP319eAmuMRILizQi%7EvOlKI7P3e-dUjSstcIsMMd91xWXIFvXLrj9Wq4DaQ-CApLCS03b0A__&Key-Pair-Id=K3RPWS32NSSJCE: HTTPSConnectionPool(host='cdn-lfs.hf.co', port=443): Read timed out.\n",
      "Trying to resume download...\n"
     ]
    },
    {
     "data": {
      "application/json": {
       "ascii": false,
       "bar_format": null,
       "colour": null,
       "elapsed": 0.004176139831542969,
       "initial": 20971520,
       "n": 20971520,
       "ncols": null,
       "nrows": null,
       "postfix": null,
       "prefix": "(…)istic_Vision_V4.0-inpainting.safetensors",
       "rate": null,
       "total": 4265203868,
       "unit": "B",
       "unit_divisor": 1000,
       "unit_scale": true
      },
      "application/vnd.jupyter.widget-view+json": {
       "model_id": "516c2847e7bc4bd6838873bfd1378e7b",
       "version_major": 2,
       "version_minor": 0
      },
      "text/plain": [
       "(…)istic_Vision_V4.0-inpainting.safetensors:   0%|          | 21.0M/4.27G [00:00<?, ?B/s]"
      ]
     },
     "metadata": {},
     "output_type": "display_data"
    },
    {
     "data": {
      "application/json": {
       "ascii": false,
       "bar_format": null,
       "colour": null,
       "elapsed": 0.004363059997558594,
       "initial": 0,
       "n": 0,
       "ncols": null,
       "nrows": null,
       "postfix": null,
       "prefix": "(…)_Vision_V4.0_fp16-no-ema-inpainting.ckpt",
       "rate": null,
       "total": 2132956447,
       "unit": "B",
       "unit_divisor": 1000,
       "unit_scale": true
      },
      "application/vnd.jupyter.widget-view+json": {
       "model_id": "9b23826ffddd4f88b519fb08dfab847d",
       "version_major": 2,
       "version_minor": 0
      },
      "text/plain": [
       "(…)_Vision_V4.0_fp16-no-ema-inpainting.ckpt:   0%|          | 0.00/2.13G [00:00<?, ?B/s]"
      ]
     },
     "metadata": {},
     "output_type": "display_data"
    },
    {
     "data": {
      "application/json": {
       "ascii": false,
       "bar_format": null,
       "colour": null,
       "elapsed": 0.010595083236694336,
       "initial": 20971520,
       "n": 20971520,
       "ncols": null,
       "nrows": null,
       "postfix": null,
       "prefix": "(…)stic_Vision_V4.0_fp16-no-ema.safetensors",
       "rate": null,
       "total": 2132625894,
       "unit": "B",
       "unit_divisor": 1000,
       "unit_scale": true
      },
      "application/vnd.jupyter.widget-view+json": {
       "model_id": "ce66f1e6bd6c4445a5b179f3a5ba2234",
       "version_major": 2,
       "version_minor": 0
      },
      "text/plain": [
       "(…)stic_Vision_V4.0_fp16-no-ema.safetensors:   1%|          | 21.0M/2.13G [00:00<?, ?B/s]"
      ]
     },
     "metadata": {},
     "output_type": "display_data"
    },
    {
     "name": "stderr",
     "output_type": "stream",
     "text": [
      "Error while downloading from https://cdn-lfs.hf.co/repos/79/7d/797dc928558cd7d68dff74fa40da7d4e9950770a8e15b1df1e6560b2e50e1f5a/55f70d179d72327105d7647983370f1ab77573ac121786336ac8fa6349777622?response-content-disposition=inline%3B+filename*%3DUTF-8%27%27Realistic_Vision_V4.0-inpainting.ckpt%3B+filename%3D%22Realistic_Vision_V4.0-inpainting.ckpt%22%3B&Expires=1740579044&Policy=eyJTdGF0ZW1lbnQiOlt7IkNvbmRpdGlvbiI6eyJEYXRlTGVzc1RoYW4iOnsiQVdTOkVwb2NoVGltZSI6MTc0MDU3OTA0NH19LCJSZXNvdXJjZSI6Imh0dHBzOi8vY2RuLWxmcy5oZi5jby9yZXBvcy83OS83ZC83OTdkYzkyODU1OGNkN2Q2OGRmZjc0ZmE0MGRhN2Q0ZTk5NTA3NzBhOGUxNWIxZGYxZTY1NjBiMmU1MGUxZjVhLzU1ZjcwZDE3OWQ3MjMyNzEwNWQ3NjQ3OTgzMzcwZjFhYjc3NTczYWMxMjE3ODYzMzZhYzhmYTYzNDk3Nzc2MjI%7EcmVzcG9uc2UtY29udGVudC1kaXNwb3NpdGlvbj0qIn1dfQ__&Signature=MIk4Nr5QR-PqbS5zSCelO6NL-yiajo8FokCbcNl6yaZqFMWc-w%7Eo9zQF-cyL3otRLu2ipxjo0H8I7KcZ2ekxdaiTuI0eyQADA7DhwPu7KTnkb5vx8bDqN9NuduGIouukLpXzgDoBzfPql8pueEMkk7KKoin-G2aGAdywVmi5%7EykXbywDOxcUzWqFx14v6gEKVdpOWN1eEbqWu586Pp3ZYAkDfgYg0OT9Y3MgMpkEAFY-h4oebHuhXIfvCxDrOVXpYagsBingT822T8zB5vP8hNZPIrn67QD0PLEv6EmuVeETlxIR3i3BRGd3smqW2IUcNfh9nwHN5tVpju30h2CkbA__&Key-Pair-Id=K3RPWS32NSSJCE: HTTPSConnectionPool(host='cdn-lfs.hf.co', port=443): Read timed out.\n",
      "Trying to resume download...\n"
     ]
    },
    {
     "data": {
      "application/json": {
       "ascii": false,
       "bar_format": null,
       "colour": null,
       "elapsed": 0.013262510299682617,
       "initial": 115343360,
       "n": 115343360,
       "ncols": null,
       "nrows": null,
       "postfix": null,
       "prefix": "Realistic_Vision_V4.0-inpainting.ckpt",
       "rate": null,
       "total": 4265479980,
       "unit": "B",
       "unit_divisor": 1000,
       "unit_scale": true
      },
      "application/vnd.jupyter.widget-view+json": {
       "model_id": "c180c52691c141e4b95714289de0623c",
       "version_major": 2,
       "version_minor": 0
      },
      "text/plain": [
       "Realistic_Vision_V4.0-inpainting.ckpt:   3%|2         | 115M/4.27G [00:00<?, ?B/s]"
      ]
     },
     "metadata": {},
     "output_type": "display_data"
    },
    {
     "name": "stderr",
     "output_type": "stream",
     "text": [
      "Error while downloading from https://cdn-lfs.hf.co/repos/79/7d/797dc928558cd7d68dff74fa40da7d4e9950770a8e15b1df1e6560b2e50e1f5a/2f639f6254239b32bad84158f6524d5b7bbcd0b2f4ccf9c6f3f4136aa5e944bc?response-content-disposition=inline%3B+filename*%3DUTF-8%27%27Realistic_Vision_V4.0.ckpt%3B+filename%3D%22Realistic_Vision_V4.0.ckpt%22%3B&Expires=1740579044&Policy=eyJTdGF0ZW1lbnQiOlt7IkNvbmRpdGlvbiI6eyJEYXRlTGVzc1RoYW4iOnsiQVdTOkVwb2NoVGltZSI6MTc0MDU3OTA0NH19LCJSZXNvdXJjZSI6Imh0dHBzOi8vY2RuLWxmcy5oZi5jby9yZXBvcy83OS83ZC83OTdkYzkyODU1OGNkN2Q2OGRmZjc0ZmE0MGRhN2Q0ZTk5NTA3NzBhOGUxNWIxZGYxZTY1NjBiMmU1MGUxZjVhLzJmNjM5ZjYyNTQyMzliMzJiYWQ4NDE1OGY2NTI0ZDViN2JiY2QwYjJmNGNjZjljNmYzZjQxMzZhYTVlOTQ0YmM%7EcmVzcG9uc2UtY29udGVudC1kaXNwb3NpdGlvbj0qIn1dfQ__&Signature=QXJVtb%7E8eX%7ECRHg3vXZzBepOub-E2Oo3Iael0mnZVvsRMyCir0Ql%7EwHEuA7mejFgHMsRaBdAGMXdw7qKTV1sd7RT2TD36jYysMWLXQgaGdNP1oTMfQac2jHO6AQ-Ykw%7EROeV0FlkDM5RXpBW2WF9D5LryWQ3M2cbFHYwu2wS%7EWNxAqo250z9MudLoLKJkHaX%7E4mn1vinOIyQSSFkEJa7icKeILQ8dZ%7EynA6KycIxf-tD3YAQGVxS0-uHpdqwQOA%7Ev%7EBFWxEsGfD94oo3gnT7JbpU-eG2euxsPPwyN87WW1i45Dr32V5PAjFGPSxWvNlte2kHDNUzdl4tCUtMt5%7EH8A__&Key-Pair-Id=K3RPWS32NSSJCE: HTTPSConnectionPool(host='cdn-lfs.hf.co', port=443): Read timed out.\n",
      "Trying to resume download...\n",
      "Error while downloading from https://cdn-lfs.hf.co/repos/79/7d/797dc928558cd7d68dff74fa40da7d4e9950770a8e15b1df1e6560b2e50e1f5a/ab0de91e505f9199ad058a832134b3c93561ca4b4d5ecee0ea21fb0c6a2d6c39?response-content-disposition=inline%3B+filename*%3DUTF-8%27%27Realistic_Vision_V4.0.safetensors%3B+filename%3D%22Realistic_Vision_V4.0.safetensors%22%3B&Expires=1740579044&Policy=eyJTdGF0ZW1lbnQiOlt7IkNvbmRpdGlvbiI6eyJEYXRlTGVzc1RoYW4iOnsiQVdTOkVwb2NoVGltZSI6MTc0MDU3OTA0NH19LCJSZXNvdXJjZSI6Imh0dHBzOi8vY2RuLWxmcy5oZi5jby9yZXBvcy83OS83ZC83OTdkYzkyODU1OGNkN2Q2OGRmZjc0ZmE0MGRhN2Q0ZTk5NTA3NzBhOGUxNWIxZGYxZTY1NjBiMmU1MGUxZjVhL2FiMGRlOTFlNTA1ZjkxOTlhZDA1OGE4MzIxMzRiM2M5MzU2MWNhNGI0ZDVlY2VlMGVhMjFmYjBjNmEyZDZjMzk%7EcmVzcG9uc2UtY29udGVudC1kaXNwb3NpdGlvbj0qIn1dfQ__&Signature=c3OSnSqgU79l71PKfMYnw1NFmRrjN0pTpbGQopE4FwBYm-YE4t1KaOuXeha4xQ-qkxXT%7EJ93NKB6bs883xQ%7Ezs8lbV255WfEJXnAOPz%7EvVuqds5eEAbTo%7EYxcKmLCwL54NIRz7sdcwofztAGW3Jf7dS2PlzCRWmlNmnyIhm%7E%7Em3pKUNiCS0D3G5UTpcv5IaFU9dKmTDla4APonY26KDiZnUEE-P8wswrEgGNuR4g%7ECgB9N2XgMVHekGKUVFsL2-XaTYHOgSNA%7EL0sUCp8ocDKz3DsD9xobZVBUaluiAknW%7EFqHf01NqXcPlcab9kzLjHOXRdBLfKgmjNozbIP1pCVw__&Key-Pair-Id=K3RPWS32NSSJCE: HTTPSConnectionPool(host='cdn-lfs.hf.co', port=443): Read timed out.\n",
      "Trying to resume download...\n"
     ]
    },
    {
     "data": {
      "application/json": {
       "ascii": false,
       "bar_format": null,
       "colour": null,
       "elapsed": 0.0059185028076171875,
       "initial": 41943040,
       "n": 41943040,
       "ncols": null,
       "nrows": null,
       "postfix": null,
       "prefix": "Realistic_Vision_V4.0.ckpt",
       "rate": null,
       "total": 4265344100,
       "unit": "B",
       "unit_divisor": 1000,
       "unit_scale": true
      },
      "application/vnd.jupyter.widget-view+json": {
       "model_id": "a78540c8ba3d4380a5e450523bba0406",
       "version_major": 2,
       "version_minor": 0
      },
      "text/plain": [
       "Realistic_Vision_V4.0.ckpt:   1%|          | 41.9M/4.27G [00:00<?, ?B/s]"
      ]
     },
     "metadata": {},
     "output_type": "display_data"
    },
    {
     "data": {
      "application/json": {
       "ascii": false,
       "bar_format": null,
       "colour": null,
       "elapsed": 0.005034446716308594,
       "initial": 31457280,
       "n": 31457280,
       "ncols": null,
       "nrows": null,
       "postfix": null,
       "prefix": "Realistic_Vision_V4.0.safetensors",
       "rate": null,
       "total": 4265096996,
       "unit": "B",
       "unit_divisor": 1000,
       "unit_scale": true
      },
      "application/vnd.jupyter.widget-view+json": {
       "model_id": "b0462f7e22df43bebdaa2865331ec755",
       "version_major": 2,
       "version_minor": 0
      },
      "text/plain": [
       "Realistic_Vision_V4.0.safetensors:   1%|          | 31.5M/4.27G [00:00<?, ?B/s]"
      ]
     },
     "metadata": {},
     "output_type": "display_data"
    },
    {
     "name": "stderr",
     "output_type": "stream",
     "text": [
      "Error while downloading from https://cdn-lfs.hf.co/repos/79/7d/797dc928558cd7d68dff74fa40da7d4e9950770a8e15b1df1e6560b2e50e1f5a/31410211e1f296d58fc332f7320e0e42dea260fd1de7f684277887f6c291b805?response-content-disposition=inline%3B+filename*%3DUTF-8%27%27Realistic_Vision_V4.0_fp16-no-ema-inpainting.ckpt%3B+filename%3D%22Realistic_Vision_V4.0_fp16-no-ema-inpainting.ckpt%22%3B&Expires=1740579044&Policy=eyJTdGF0ZW1lbnQiOlt7IkNvbmRpdGlvbiI6eyJEYXRlTGVzc1RoYW4iOnsiQVdTOkVwb2NoVGltZSI6MTc0MDU3OTA0NH19LCJSZXNvdXJjZSI6Imh0dHBzOi8vY2RuLWxmcy5oZi5jby9yZXBvcy83OS83ZC83OTdkYzkyODU1OGNkN2Q2OGRmZjc0ZmE0MGRhN2Q0ZTk5NTA3NzBhOGUxNWIxZGYxZTY1NjBiMmU1MGUxZjVhLzMxNDEwMjExZTFmMjk2ZDU4ZmMzMzJmNzMyMGUwZTQyZGVhMjYwZmQxZGU3ZjY4NDI3Nzg4N2Y2YzI5MWI4MDU%7EcmVzcG9uc2UtY29udGVudC1kaXNwb3NpdGlvbj0qIn1dfQ__&Signature=l8fsdomSbO3azA%7E9N2pjhj2vdqsYfnX%7EXkIIGaC2UjyDJcVr6Ptg3VReU0XvnKLddE%7Ewg7FCmpu8qTs9CTS7siB935ujDKuzLR8zyOkGA--vzmLXjN0tbbecmysaqI8kkaF9vVkw-wbFdZ3C1pYB8okCApgwbB1RLdp-8QKJqQ1PSAJWDUMkKOAazNpUd396v2yOBPXa110sfsNTMEuomPWzRkjghygkaDFWFinr8x-1gC36Lk0TLpvhJNbc9zlzwxzbz8x1xnmffAjEZwQdVVvmQYbmMqeWsIIqc8U2Eknc4b1YD%7EjCgT1spyFYP6nTUiVhF9oiUWo9UQjb%7EU7Z3Q__&Key-Pair-Id=K3RPWS32NSSJCE: HTTPSConnectionPool(host='cdn-lfs.hf.co', port=443): Read timed out.\n",
      "Trying to resume download...\n"
     ]
    },
    {
     "data": {
      "application/json": {
       "ascii": false,
       "bar_format": null,
       "colour": null,
       "elapsed": 0.004908561706542969,
       "initial": 20971520,
       "n": 20971520,
       "ncols": null,
       "nrows": null,
       "postfix": null,
       "prefix": "(…)_Vision_V4.0_fp16-no-ema-inpainting.ckpt",
       "rate": null,
       "total": 2132956447,
       "unit": "B",
       "unit_divisor": 1000,
       "unit_scale": true
      },
      "application/vnd.jupyter.widget-view+json": {
       "model_id": "6a13dff81772493aaceaefc8ac15e24f",
       "version_major": 2,
       "version_minor": 0
      },
      "text/plain": [
       "(…)_Vision_V4.0_fp16-no-ema-inpainting.ckpt:   1%|          | 21.0M/2.13G [00:00<?, ?B/s]"
      ]
     },
     "metadata": {},
     "output_type": "display_data"
    },
    {
     "name": "stderr",
     "output_type": "stream",
     "text": [
      "Error while downloading from https://cdn-lfs.hf.co/repos/79/7d/797dc928558cd7d68dff74fa40da7d4e9950770a8e15b1df1e6560b2e50e1f5a/ba046a41a0031d31d0b42bc0c48102c276755a856e1d8fa26a28beada6903115?response-content-disposition=inline%3B+filename*%3DUTF-8%27%27Realistic_Vision_V4.0_fp16-no-ema.safetensors%3B+filename%3D%22Realistic_Vision_V4.0_fp16-no-ema.safetensors%22%3B&Expires=1740579044&Policy=eyJTdGF0ZW1lbnQiOlt7IkNvbmRpdGlvbiI6eyJEYXRlTGVzc1RoYW4iOnsiQVdTOkVwb2NoVGltZSI6MTc0MDU3OTA0NH19LCJSZXNvdXJjZSI6Imh0dHBzOi8vY2RuLWxmcy5oZi5jby9yZXBvcy83OS83ZC83OTdkYzkyODU1OGNkN2Q2OGRmZjc0ZmE0MGRhN2Q0ZTk5NTA3NzBhOGUxNWIxZGYxZTY1NjBiMmU1MGUxZjVhL2JhMDQ2YTQxYTAwMzFkMzFkMGI0MmJjMGM0ODEwMmMyNzY3NTVhODU2ZTFkOGZhMjZhMjhiZWFkYTY5MDMxMTU%7EcmVzcG9uc2UtY29udGVudC1kaXNwb3NpdGlvbj0qIn1dfQ__&Signature=SA0grd%7EtODRHHXSuVC5dDRccWWG0ylGsiMGIq7ZAw09oI%7EXT-Fq77%7EGXGFJYj0ws%7ELhCmkegb2iY6udCUFX55GSAAQ4PT7qXOOGQLqgmnjQekvpYU3z6YWu1ekXePwVYGX7aUD5LpeQhODK-8-56ZwB4fYgWZPrQI8zG0WaFzP4kZ39PwaBbOFNLpkZ2XxN1AGa8YGVSzJMVNCNLZ8rgycSgt2ZZytQz8cR0tyNInZ7B5vK32xq8fW19ByQOwVvAjZpCLBk8uYHZvnItP319eAmuMRILizQi%7EvOlKI7P3e-dUjSstcIsMMd91xWXIFvXLrj9Wq4DaQ-CApLCS03b0A__&Key-Pair-Id=K3RPWS32NSSJCE: HTTPSConnectionPool(host='cdn-lfs.hf.co', port=443): Read timed out.\n",
      "Trying to resume download...\n",
      "Error while downloading from https://cdn-lfs.hf.co/repos/79/7d/797dc928558cd7d68dff74fa40da7d4e9950770a8e15b1df1e6560b2e50e1f5a/2f639f6254239b32bad84158f6524d5b7bbcd0b2f4ccf9c6f3f4136aa5e944bc?response-content-disposition=inline%3B+filename*%3DUTF-8%27%27Realistic_Vision_V4.0.ckpt%3B+filename%3D%22Realistic_Vision_V4.0.ckpt%22%3B&Expires=1740579044&Policy=eyJTdGF0ZW1lbnQiOlt7IkNvbmRpdGlvbiI6eyJEYXRlTGVzc1RoYW4iOnsiQVdTOkVwb2NoVGltZSI6MTc0MDU3OTA0NH19LCJSZXNvdXJjZSI6Imh0dHBzOi8vY2RuLWxmcy5oZi5jby9yZXBvcy83OS83ZC83OTdkYzkyODU1OGNkN2Q2OGRmZjc0ZmE0MGRhN2Q0ZTk5NTA3NzBhOGUxNWIxZGYxZTY1NjBiMmU1MGUxZjVhLzJmNjM5ZjYyNTQyMzliMzJiYWQ4NDE1OGY2NTI0ZDViN2JiY2QwYjJmNGNjZjljNmYzZjQxMzZhYTVlOTQ0YmM%7EcmVzcG9uc2UtY29udGVudC1kaXNwb3NpdGlvbj0qIn1dfQ__&Signature=QXJVtb%7E8eX%7ECRHg3vXZzBepOub-E2Oo3Iael0mnZVvsRMyCir0Ql%7EwHEuA7mejFgHMsRaBdAGMXdw7qKTV1sd7RT2TD36jYysMWLXQgaGdNP1oTMfQac2jHO6AQ-Ykw%7EROeV0FlkDM5RXpBW2WF9D5LryWQ3M2cbFHYwu2wS%7EWNxAqo250z9MudLoLKJkHaX%7E4mn1vinOIyQSSFkEJa7icKeILQ8dZ%7EynA6KycIxf-tD3YAQGVxS0-uHpdqwQOA%7Ev%7EBFWxEsGfD94oo3gnT7JbpU-eG2euxsPPwyN87WW1i45Dr32V5PAjFGPSxWvNlte2kHDNUzdl4tCUtMt5%7EH8A__&Key-Pair-Id=K3RPWS32NSSJCE: HTTPSConnectionPool(host='cdn-lfs.hf.co', port=443): Read timed out.\n",
      "Trying to resume download...\n"
     ]
    },
    {
     "data": {
      "application/json": {
       "ascii": false,
       "bar_format": null,
       "colour": null,
       "elapsed": 0.004271984100341797,
       "initial": 20971520,
       "n": 20971520,
       "ncols": null,
       "nrows": null,
       "postfix": null,
       "prefix": "(…)stic_Vision_V4.0_fp16-no-ema.safetensors",
       "rate": null,
       "total": 2132625894,
       "unit": "B",
       "unit_divisor": 1000,
       "unit_scale": true
      },
      "application/vnd.jupyter.widget-view+json": {
       "model_id": "f8fedb9e90fe46da907c279003e53f90",
       "version_major": 2,
       "version_minor": 0
      },
      "text/plain": [
       "(…)stic_Vision_V4.0_fp16-no-ema.safetensors:   1%|          | 21.0M/2.13G [00:00<?, ?B/s]"
      ]
     },
     "metadata": {},
     "output_type": "display_data"
    },
    {
     "data": {
      "application/json": {
       "ascii": false,
       "bar_format": null,
       "colour": null,
       "elapsed": 0.00915074348449707,
       "initial": 41943040,
       "n": 41943040,
       "ncols": null,
       "nrows": null,
       "postfix": null,
       "prefix": "Realistic_Vision_V4.0.ckpt",
       "rate": null,
       "total": 4265344100,
       "unit": "B",
       "unit_divisor": 1000,
       "unit_scale": true
      },
      "application/vnd.jupyter.widget-view+json": {
       "model_id": "cba2f2d8a89d4078bdd97e6ef61d80fb",
       "version_major": 2,
       "version_minor": 0
      },
      "text/plain": [
       "Realistic_Vision_V4.0.ckpt:   1%|          | 41.9M/4.27G [00:00<?, ?B/s]"
      ]
     },
     "metadata": {},
     "output_type": "display_data"
    },
    {
     "name": "stderr",
     "output_type": "stream",
     "text": [
      "Error while downloading from https://cdn-lfs.hf.co/repos/79/7d/797dc928558cd7d68dff74fa40da7d4e9950770a8e15b1df1e6560b2e50e1f5a/55f70d179d72327105d7647983370f1ab77573ac121786336ac8fa6349777622?response-content-disposition=inline%3B+filename*%3DUTF-8%27%27Realistic_Vision_V4.0-inpainting.ckpt%3B+filename%3D%22Realistic_Vision_V4.0-inpainting.ckpt%22%3B&Expires=1740579044&Policy=eyJTdGF0ZW1lbnQiOlt7IkNvbmRpdGlvbiI6eyJEYXRlTGVzc1RoYW4iOnsiQVdTOkVwb2NoVGltZSI6MTc0MDU3OTA0NH19LCJSZXNvdXJjZSI6Imh0dHBzOi8vY2RuLWxmcy5oZi5jby9yZXBvcy83OS83ZC83OTdkYzkyODU1OGNkN2Q2OGRmZjc0ZmE0MGRhN2Q0ZTk5NTA3NzBhOGUxNWIxZGYxZTY1NjBiMmU1MGUxZjVhLzU1ZjcwZDE3OWQ3MjMyNzEwNWQ3NjQ3OTgzMzcwZjFhYjc3NTczYWMxMjE3ODYzMzZhYzhmYTYzNDk3Nzc2MjI%7EcmVzcG9uc2UtY29udGVudC1kaXNwb3NpdGlvbj0qIn1dfQ__&Signature=MIk4Nr5QR-PqbS5zSCelO6NL-yiajo8FokCbcNl6yaZqFMWc-w%7Eo9zQF-cyL3otRLu2ipxjo0H8I7KcZ2ekxdaiTuI0eyQADA7DhwPu7KTnkb5vx8bDqN9NuduGIouukLpXzgDoBzfPql8pueEMkk7KKoin-G2aGAdywVmi5%7EykXbywDOxcUzWqFx14v6gEKVdpOWN1eEbqWu586Pp3ZYAkDfgYg0OT9Y3MgMpkEAFY-h4oebHuhXIfvCxDrOVXpYagsBingT822T8zB5vP8hNZPIrn67QD0PLEv6EmuVeETlxIR3i3BRGd3smqW2IUcNfh9nwHN5tVpju30h2CkbA__&Key-Pair-Id=K3RPWS32NSSJCE: HTTPSConnectionPool(host='cdn-lfs.hf.co', port=443): Read timed out.\n",
      "Trying to resume download...\n"
     ]
    },
    {
     "data": {
      "application/json": {
       "ascii": false,
       "bar_format": null,
       "colour": null,
       "elapsed": 0.0046160221099853516,
       "initial": 115343360,
       "n": 115343360,
       "ncols": null,
       "nrows": null,
       "postfix": null,
       "prefix": "Realistic_Vision_V4.0-inpainting.ckpt",
       "rate": null,
       "total": 4265479980,
       "unit": "B",
       "unit_divisor": 1000,
       "unit_scale": true
      },
      "application/vnd.jupyter.widget-view+json": {
       "model_id": "3d83abab686b4a10a70bf92fa6c1b674",
       "version_major": 2,
       "version_minor": 0
      },
      "text/plain": [
       "Realistic_Vision_V4.0-inpainting.ckpt:   3%|2         | 115M/4.27G [00:00<?, ?B/s]"
      ]
     },
     "metadata": {},
     "output_type": "display_data"
    },
    {
     "name": "stderr",
     "output_type": "stream",
     "text": [
      "Error while downloading from https://cdn-lfs.hf.co/repos/79/7d/797dc928558cd7d68dff74fa40da7d4e9950770a8e15b1df1e6560b2e50e1f5a/ab0de91e505f9199ad058a832134b3c93561ca4b4d5ecee0ea21fb0c6a2d6c39?response-content-disposition=inline%3B+filename*%3DUTF-8%27%27Realistic_Vision_V4.0.safetensors%3B+filename%3D%22Realistic_Vision_V4.0.safetensors%22%3B&Expires=1740579044&Policy=eyJTdGF0ZW1lbnQiOlt7IkNvbmRpdGlvbiI6eyJEYXRlTGVzc1RoYW4iOnsiQVdTOkVwb2NoVGltZSI6MTc0MDU3OTA0NH19LCJSZXNvdXJjZSI6Imh0dHBzOi8vY2RuLWxmcy5oZi5jby9yZXBvcy83OS83ZC83OTdkYzkyODU1OGNkN2Q2OGRmZjc0ZmE0MGRhN2Q0ZTk5NTA3NzBhOGUxNWIxZGYxZTY1NjBiMmU1MGUxZjVhL2FiMGRlOTFlNTA1ZjkxOTlhZDA1OGE4MzIxMzRiM2M5MzU2MWNhNGI0ZDVlY2VlMGVhMjFmYjBjNmEyZDZjMzk%7EcmVzcG9uc2UtY29udGVudC1kaXNwb3NpdGlvbj0qIn1dfQ__&Signature=c3OSnSqgU79l71PKfMYnw1NFmRrjN0pTpbGQopE4FwBYm-YE4t1KaOuXeha4xQ-qkxXT%7EJ93NKB6bs883xQ%7Ezs8lbV255WfEJXnAOPz%7EvVuqds5eEAbTo%7EYxcKmLCwL54NIRz7sdcwofztAGW3Jf7dS2PlzCRWmlNmnyIhm%7E%7Em3pKUNiCS0D3G5UTpcv5IaFU9dKmTDla4APonY26KDiZnUEE-P8wswrEgGNuR4g%7ECgB9N2XgMVHekGKUVFsL2-XaTYHOgSNA%7EL0sUCp8ocDKz3DsD9xobZVBUaluiAknW%7EFqHf01NqXcPlcab9kzLjHOXRdBLfKgmjNozbIP1pCVw__&Key-Pair-Id=K3RPWS32NSSJCE: HTTPSConnectionPool(host='cdn-lfs.hf.co', port=443): Read timed out.\n",
      "Trying to resume download...\n",
      "Error while downloading from https://cdn-lfs.hf.co/repos/79/7d/797dc928558cd7d68dff74fa40da7d4e9950770a8e15b1df1e6560b2e50e1f5a/b2b971f639658b1ff1146e83a5947b88d0abb05b56431f9be0ad0bf43bc2a275?response-content-disposition=inline%3B+filename*%3DUTF-8%27%27Realistic_Vision_V4.0_fp16-no-ema-inpainting.safetensors%3B+filename%3D%22Realistic_Vision_V4.0_fp16-no-ema-inpainting.safetensors%22%3B&Expires=1740579044&Policy=eyJTdGF0ZW1lbnQiOlt7IkNvbmRpdGlvbiI6eyJEYXRlTGVzc1RoYW4iOnsiQVdTOkVwb2NoVGltZSI6MTc0MDU3OTA0NH19LCJSZXNvdXJjZSI6Imh0dHBzOi8vY2RuLWxmcy5oZi5jby9yZXBvcy83OS83ZC83OTdkYzkyODU1OGNkN2Q2OGRmZjc0ZmE0MGRhN2Q0ZTk5NTA3NzBhOGUxNWIxZGYxZTY1NjBiMmU1MGUxZjVhL2IyYjk3MWY2Mzk2NThiMWZmMTE0NmU4M2E1OTQ3Yjg4ZDBhYmIwNWI1NjQzMWY5YmUwYWQwYmY0M2JjMmEyNzU%7EcmVzcG9uc2UtY29udGVudC1kaXNwb3NpdGlvbj0qIn1dfQ__&Signature=tL6RhZjcOVDqNxyXuDc-tiEg27iSpBXS5HLhuAa44jMeS7WAASp5mNuRDHqJ3HGKqXIzzakSK1TKVpdFtCKYs1htOkF9VfXb1XnR8wH6DFS38QR1VWsuEpiQHgRjmwr0%7ECJIZroNJ9CPJnZxu%7ERrILL98BiPssRVfj9j-2B6QoI8O4pL3M7P1M6JC9FeH5R8rqrwE-oXqcHAzmnOX26ar5FjMm9%7EI25lKJ89oCIkrjIJ90cnYkqLS-OlYUStQQvqRZJqBRiob9pJx-u4P%7EmLVM8s4A8UN7Qtr92tqWL4Shy3sx3RAR97ZmMI3nl7OIBxLSbTfSEy3859xiEz5FV41w__&Key-Pair-Id=K3RPWS32NSSJCE: HTTPSConnectionPool(host='cdn-lfs.hf.co', port=443): Read timed out.\n",
      "Trying to resume download...\n"
     ]
    },
    {
     "data": {
      "application/json": {
       "ascii": false,
       "bar_format": null,
       "colour": null,
       "elapsed": 0.004578113555908203,
       "initial": 62914560,
       "n": 62914560,
       "ncols": null,
       "nrows": null,
       "postfix": null,
       "prefix": "Realistic_Vision_V4.0.safetensors",
       "rate": null,
       "total": 4265096996,
       "unit": "B",
       "unit_divisor": 1000,
       "unit_scale": true
      },
      "application/vnd.jupyter.widget-view+json": {
       "model_id": "16e06d4825d74b50bf80eefd2be91502",
       "version_major": 2,
       "version_minor": 0
      },
      "text/plain": [
       "Realistic_Vision_V4.0.safetensors:   1%|1         | 62.9M/4.27G [00:00<?, ?B/s]"
      ]
     },
     "metadata": {},
     "output_type": "display_data"
    },
    {
     "name": "stderr",
     "output_type": "stream",
     "text": [
      "Error while downloading from https://cdn-lfs.hf.co/repos/79/7d/797dc928558cd7d68dff74fa40da7d4e9950770a8e15b1df1e6560b2e50e1f5a/00c237d3d92ddbd1d055eb17a2d0cf6c311b40246b3f7086fb19109530ccb200?response-content-disposition=inline%3B+filename*%3DUTF-8%27%27Realistic_Vision_V4.0_fp16-no-ema.ckpt%3B+filename%3D%22Realistic_Vision_V4.0_fp16-no-ema.ckpt%22%3B&Expires=1740579044&Policy=eyJTdGF0ZW1lbnQiOlt7IkNvbmRpdGlvbiI6eyJEYXRlTGVzc1RoYW4iOnsiQVdTOkVwb2NoVGltZSI6MTc0MDU3OTA0NH19LCJSZXNvdXJjZSI6Imh0dHBzOi8vY2RuLWxmcy5oZi5jby9yZXBvcy83OS83ZC83OTdkYzkyODU1OGNkN2Q2OGRmZjc0ZmE0MGRhN2Q0ZTk5NTA3NzBhOGUxNWIxZGYxZTY1NjBiMmU1MGUxZjVhLzAwYzIzN2QzZDkyZGRiZDFkMDU1ZWIxN2EyZDBjZjZjMzExYjQwMjQ2YjNmNzA4NmZiMTkxMDk1MzBjY2IyMDA%7EcmVzcG9uc2UtY29udGVudC1kaXNwb3NpdGlvbj0qIn1dfQ__&Signature=BYKmL-c%7EYSBbUqrX1n-H0GJ-%7EPxnv%7EhyFgSWOs5JYEmfz95axqqG9kE-1XHKg5EFCsZkHqawK9IfWX0%7Eim%7Eo3p3ZKuH35hGUsd24pYsmJh%7EtsEUEmo9IFqrmMKYnaZhRcm68HbNEfZSdBhpcf1Jx%7EG4ifKwxxZznaKQhXIWfLATEv2LM-go9FD5%7EDAhJbLvK71t-fZdNXOik3ldx7h6XckD89V2UdmQ0t8MXKDg2S8s2s7YejadqbUbjPIplq3vib7esjxzKVyECOOdYOkwAY7NgyYsFcihWalUluBGUEaGCDg9-344cHiym-TEZLFCQ7spg2o14zSrNTpBDQkgBuQ__&Key-Pair-Id=K3RPWS32NSSJCE: HTTPSConnectionPool(host='cdn-lfs.hf.co', port=443): Read timed out.\n",
      "Trying to resume download...\n"
     ]
    },
    {
     "data": {
      "application/json": {
       "ascii": false,
       "bar_format": null,
       "colour": null,
       "elapsed": 0.004491090774536133,
       "initial": 62914560,
       "n": 62914560,
       "ncols": null,
       "nrows": null,
       "postfix": null,
       "prefix": "(…)_V4.0_fp16-no-ema-inpainting.safetensors",
       "rate": null,
       "total": 2132679782,
       "unit": "B",
       "unit_divisor": 1000,
       "unit_scale": true
      },
      "application/vnd.jupyter.widget-view+json": {
       "model_id": "ed543e796123409badd58ff4e0958655",
       "version_major": 2,
       "version_minor": 0
      },
      "text/plain": [
       "(…)_V4.0_fp16-no-ema-inpainting.safetensors:   3%|2         | 62.9M/2.13G [00:00<?, ?B/s]"
      ]
     },
     "metadata": {},
     "output_type": "display_data"
    },
    {
     "data": {
      "application/json": {
       "ascii": false,
       "bar_format": null,
       "colour": null,
       "elapsed": 0.005776882171630859,
       "initial": 188743680,
       "n": 188743680,
       "ncols": null,
       "nrows": null,
       "postfix": null,
       "prefix": "Realistic_Vision_V4.0_fp16-no-ema.ckpt",
       "rate": null,
       "total": 2132887296,
       "unit": "B",
       "unit_divisor": 1000,
       "unit_scale": true
      },
      "application/vnd.jupyter.widget-view+json": {
       "model_id": "1228499cac604152ab21b428f3593cda",
       "version_major": 2,
       "version_minor": 0
      },
      "text/plain": [
       "Realistic_Vision_V4.0_fp16-no-ema.ckpt:   9%|8         | 189M/2.13G [00:00<?, ?B/s]"
      ]
     },
     "metadata": {},
     "output_type": "display_data"
    },
    {
     "name": "stderr",
     "output_type": "stream",
     "text": [
      "Error while downloading from https://cdn-lfs.hf.co/repos/79/7d/797dc928558cd7d68dff74fa40da7d4e9950770a8e15b1df1e6560b2e50e1f5a/55f70d179d72327105d7647983370f1ab77573ac121786336ac8fa6349777622?response-content-disposition=inline%3B+filename*%3DUTF-8%27%27Realistic_Vision_V4.0-inpainting.ckpt%3B+filename%3D%22Realistic_Vision_V4.0-inpainting.ckpt%22%3B&Expires=1740579044&Policy=eyJTdGF0ZW1lbnQiOlt7IkNvbmRpdGlvbiI6eyJEYXRlTGVzc1RoYW4iOnsiQVdTOkVwb2NoVGltZSI6MTc0MDU3OTA0NH19LCJSZXNvdXJjZSI6Imh0dHBzOi8vY2RuLWxmcy5oZi5jby9yZXBvcy83OS83ZC83OTdkYzkyODU1OGNkN2Q2OGRmZjc0ZmE0MGRhN2Q0ZTk5NTA3NzBhOGUxNWIxZGYxZTY1NjBiMmU1MGUxZjVhLzU1ZjcwZDE3OWQ3MjMyNzEwNWQ3NjQ3OTgzMzcwZjFhYjc3NTczYWMxMjE3ODYzMzZhYzhmYTYzNDk3Nzc2MjI%7EcmVzcG9uc2UtY29udGVudC1kaXNwb3NpdGlvbj0qIn1dfQ__&Signature=MIk4Nr5QR-PqbS5zSCelO6NL-yiajo8FokCbcNl6yaZqFMWc-w%7Eo9zQF-cyL3otRLu2ipxjo0H8I7KcZ2ekxdaiTuI0eyQADA7DhwPu7KTnkb5vx8bDqN9NuduGIouukLpXzgDoBzfPql8pueEMkk7KKoin-G2aGAdywVmi5%7EykXbywDOxcUzWqFx14v6gEKVdpOWN1eEbqWu586Pp3ZYAkDfgYg0OT9Y3MgMpkEAFY-h4oebHuhXIfvCxDrOVXpYagsBingT822T8zB5vP8hNZPIrn67QD0PLEv6EmuVeETlxIR3i3BRGd3smqW2IUcNfh9nwHN5tVpju30h2CkbA__&Key-Pair-Id=K3RPWS32NSSJCE: HTTPSConnectionPool(host='cdn-lfs.hf.co', port=443): Read timed out.\n",
      "Trying to resume download...\n"
     ]
    },
    {
     "data": {
      "application/json": {
       "ascii": false,
       "bar_format": null,
       "colour": null,
       "elapsed": 0.013988494873046875,
       "initial": 115343360,
       "n": 115343360,
       "ncols": null,
       "nrows": null,
       "postfix": null,
       "prefix": "Realistic_Vision_V4.0-inpainting.ckpt",
       "rate": null,
       "total": 4265479980,
       "unit": "B",
       "unit_divisor": 1000,
       "unit_scale": true
      },
      "application/vnd.jupyter.widget-view+json": {
       "model_id": "9f6136d92a014bfaaedf6b5eb107cdfe",
       "version_major": 2,
       "version_minor": 0
      },
      "text/plain": [
       "Realistic_Vision_V4.0-inpainting.ckpt:   3%|2         | 115M/4.27G [00:00<?, ?B/s]"
      ]
     },
     "metadata": {},
     "output_type": "display_data"
    },
    {
     "name": "stderr",
     "output_type": "stream",
     "text": [
      "Error while downloading from https://cdn-lfs.hf.co/repos/79/7d/797dc928558cd7d68dff74fa40da7d4e9950770a8e15b1df1e6560b2e50e1f5a/31410211e1f296d58fc332f7320e0e42dea260fd1de7f684277887f6c291b805?response-content-disposition=inline%3B+filename*%3DUTF-8%27%27Realistic_Vision_V4.0_fp16-no-ema-inpainting.ckpt%3B+filename%3D%22Realistic_Vision_V4.0_fp16-no-ema-inpainting.ckpt%22%3B&Expires=1740579044&Policy=eyJTdGF0ZW1lbnQiOlt7IkNvbmRpdGlvbiI6eyJEYXRlTGVzc1RoYW4iOnsiQVdTOkVwb2NoVGltZSI6MTc0MDU3OTA0NH19LCJSZXNvdXJjZSI6Imh0dHBzOi8vY2RuLWxmcy5oZi5jby9yZXBvcy83OS83ZC83OTdkYzkyODU1OGNkN2Q2OGRmZjc0ZmE0MGRhN2Q0ZTk5NTA3NzBhOGUxNWIxZGYxZTY1NjBiMmU1MGUxZjVhLzMxNDEwMjExZTFmMjk2ZDU4ZmMzMzJmNzMyMGUwZTQyZGVhMjYwZmQxZGU3ZjY4NDI3Nzg4N2Y2YzI5MWI4MDU%7EcmVzcG9uc2UtY29udGVudC1kaXNwb3NpdGlvbj0qIn1dfQ__&Signature=l8fsdomSbO3azA%7E9N2pjhj2vdqsYfnX%7EXkIIGaC2UjyDJcVr6Ptg3VReU0XvnKLddE%7Ewg7FCmpu8qTs9CTS7siB935ujDKuzLR8zyOkGA--vzmLXjN0tbbecmysaqI8kkaF9vVkw-wbFdZ3C1pYB8okCApgwbB1RLdp-8QKJqQ1PSAJWDUMkKOAazNpUd396v2yOBPXa110sfsNTMEuomPWzRkjghygkaDFWFinr8x-1gC36Lk0TLpvhJNbc9zlzwxzbz8x1xnmffAjEZwQdVVvmQYbmMqeWsIIqc8U2Eknc4b1YD%7EjCgT1spyFYP6nTUiVhF9oiUWo9UQjb%7EU7Z3Q__&Key-Pair-Id=K3RPWS32NSSJCE: HTTPSConnectionPool(host='cdn-lfs.hf.co', port=443): Read timed out.\n",
      "Trying to resume download...\n"
     ]
    },
    {
     "data": {
      "application/json": {
       "ascii": false,
       "bar_format": null,
       "colour": null,
       "elapsed": 0.004393815994262695,
       "initial": 20971520,
       "n": 20971520,
       "ncols": null,
       "nrows": null,
       "postfix": null,
       "prefix": "(…)_Vision_V4.0_fp16-no-ema-inpainting.ckpt",
       "rate": null,
       "total": 2132956447,
       "unit": "B",
       "unit_divisor": 1000,
       "unit_scale": true
      },
      "application/vnd.jupyter.widget-view+json": {
       "model_id": "d4496bbfeade434d8927886d189529d4",
       "version_major": 2,
       "version_minor": 0
      },
      "text/plain": [
       "(…)_Vision_V4.0_fp16-no-ema-inpainting.ckpt:   1%|          | 21.0M/2.13G [00:00<?, ?B/s]"
      ]
     },
     "metadata": {},
     "output_type": "display_data"
    },
    {
     "name": "stderr",
     "output_type": "stream",
     "text": [
      "Error while downloading from https://cdn-lfs.hf.co/repos/79/7d/797dc928558cd7d68dff74fa40da7d4e9950770a8e15b1df1e6560b2e50e1f5a/96ad210fd14df974b5d3ebac788b7ecac9fea66852fd9af66d8e5bac66d93c32?response-content-disposition=inline%3B+filename*%3DUTF-8%27%27Realistic_Vision_V4.0-inpainting.safetensors%3B+filename%3D%22Realistic_Vision_V4.0-inpainting.safetensors%22%3B&Expires=1740579044&Policy=eyJTdGF0ZW1lbnQiOlt7IkNvbmRpdGlvbiI6eyJEYXRlTGVzc1RoYW4iOnsiQVdTOkVwb2NoVGltZSI6MTc0MDU3OTA0NH19LCJSZXNvdXJjZSI6Imh0dHBzOi8vY2RuLWxmcy5oZi5jby9yZXBvcy83OS83ZC83OTdkYzkyODU1OGNkN2Q2OGRmZjc0ZmE0MGRhN2Q0ZTk5NTA3NzBhOGUxNWIxZGYxZTY1NjBiMmU1MGUxZjVhLzk2YWQyMTBmZDE0ZGY5NzRiNWQzZWJhYzc4OGI3ZWNhYzlmZWE2Njg1MmZkOWFmNjZkOGU1YmFjNjZkOTNjMzI%7EcmVzcG9uc2UtY29udGVudC1kaXNwb3NpdGlvbj0qIn1dfQ__&Signature=hLi2OTu8G3EvLCcfdu0cq1mpJjcyb3oqAhviujOX7L0767DFDeQDXLGIlm3N56roQwekwgFt9UfR685L2DOtdgye7oTa12CzsaeDbad3Qx4%7EMzdhIGxkepEP%7Exn1-iKCgyDCxg1bcy%7E2gOrKnevuNiLB5t6UuQtdMM4ZiLBAPEkcvKQBgU7bdbM1CB75nrNbuU8RiB8zuDirHdQbQFUx4tHGKs6yuujqcA6u3TkYmwG8DgTn1t0yql6BnILyBYDllkOqKD5F46e0BAPSpJF4il7TeqhJjjVPSLtmVU9vHaIEDeOWk54msj1WD1thLnw8bUS2-y2-kmJ%7EU%7EIvwUL99g__&Key-Pair-Id=K3RPWS32NSSJCE: HTTPSConnectionPool(host='cdn-lfs.hf.co', port=443): Read timed out.\n",
      "Trying to resume download...\n"
     ]
    },
    {
     "data": {
      "application/json": {
       "ascii": false,
       "bar_format": null,
       "colour": null,
       "elapsed": 0.004128217697143555,
       "initial": 115343360,
       "n": 115343360,
       "ncols": null,
       "nrows": null,
       "postfix": null,
       "prefix": "(…)istic_Vision_V4.0-inpainting.safetensors",
       "rate": null,
       "total": 4265203868,
       "unit": "B",
       "unit_divisor": 1000,
       "unit_scale": true
      },
      "application/vnd.jupyter.widget-view+json": {
       "model_id": "98938501e9194f5ebd9bdf898998ed95",
       "version_major": 2,
       "version_minor": 0
      },
      "text/plain": [
       "(…)istic_Vision_V4.0-inpainting.safetensors:   3%|2         | 115M/4.27G [00:00<?, ?B/s]"
      ]
     },
     "metadata": {},
     "output_type": "display_data"
    }
   ],
   "source": [
    "pipe = StableDiffusionPipeline.from_pretrained(\"SG161222/Realistic_Vision_V4.0_noVAE\")\n",
    "unet = pipe.net"
   ]
  },
  {
   "cell_type": "code",
   "execution_count": null,
   "metadata": {},
   "outputs": [],
   "source": []
  }
 ],
 "metadata": {
  "kernelspec": {
   "display_name": "qdiff",
   "language": "python",
   "name": "python3"
  },
  "language_info": {
   "codemirror_mode": {
    "name": "ipython",
    "version": 3
   },
   "file_extension": ".py",
   "mimetype": "text/x-python",
   "name": "python",
   "nbconvert_exporter": "python",
   "pygments_lexer": "ipython3",
   "version": "3.8.5"
  }
 },
 "nbformat": 4,
 "nbformat_minor": 2
}
