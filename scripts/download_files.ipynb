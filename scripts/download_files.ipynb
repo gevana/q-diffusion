{
 "cells": [
  {
   "cell_type": "code",
   "execution_count": 1,
   "metadata": {},
   "outputs": [],
   "source": [
    "import os"
   ]
  },
  {
   "cell_type": "code",
   "execution_count": 3,
   "metadata": {},
   "outputs": [],
   "source": [
    "from mo_utils.utils.tmux_utils import tmux_session,get_session_list"
   ]
  },
  {
   "cell_type": "code",
   "execution_count": 5,
   "metadata": {},
   "outputs": [
    {
     "data": {
      "text/plain": [
       "[]"
      ]
     },
     "execution_count": 5,
     "metadata": {},
     "output_type": "execute_result"
    }
   ],
   "source": [
    "get_session_list()"
   ]
  },
  {
   "cell_type": "code",
   "execution_count": 7,
   "metadata": {},
   "outputs": [],
   "source": [
    "calib_sd = 'https://drive.google.com/file/d/1oHHNZL1I85GyfKmc5rQibd_zSaxbMEAU/view?usp=drive_link'\n",
    "sd_w8a8 = 'https://drive.google.com/file/d/1ufqDGmbDAm7ejmxkNEVc1In_ZRv9WfVw/view?usp=drive_link'\n",
    "sd_w4a8 = 'https://drive.google.com/file/d/1epkB6sHOcmPwCNYSbxwHy3aLOC7Yb_T8/view?usp=drive_link'\n"
   ]
  },
  {
   "cell_type": "code",
   "execution_count": null,
   "metadata": {},
   "outputs": [],
   "source": [
    "#\n",
    "# bash /work/users/nadavg/SW/Anaconda3-2024.10-1-Linux-x86_64.sh"
   ]
  },
  {
   "cell_type": "code",
   "execution_count": 8,
   "metadata": {},
   "outputs": [],
   "source": [
    "# ln -s /fastdata/users/nadavg/sd/qdiff/sd-v1-4.ckpt  models/ldm/stable-diffusion-v1/model.ckpt"
   ]
  },
  {
   "cell_type": "code",
   "execution_count": null,
   "metadata": {},
   "outputs": [],
   "source": []
  }
 ],
 "metadata": {
  "kernelspec": {
   "display_name": "qdiff",
   "language": "python",
   "name": "python3"
  },
  "language_info": {
   "codemirror_mode": {
    "name": "ipython",
    "version": 3
   },
   "file_extension": ".py",
   "mimetype": "text/x-python",
   "name": "python",
   "nbconvert_exporter": "python",
   "pygments_lexer": "ipython3",
   "version": "3.8.5"
  }
 },
 "nbformat": 4,
 "nbformat_minor": 2
}
