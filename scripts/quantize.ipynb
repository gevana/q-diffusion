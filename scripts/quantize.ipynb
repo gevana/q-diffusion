{
 "cells": [
  {
   "cell_type": "code",
   "execution_count": 1,
   "metadata": {},
   "outputs": [],
   "source": [
    "import os,sys\n",
    "#sys.path.append('/work/qdiff/mo_utils')"
   ]
  },
  {
   "cell_type": "code",
   "execution_count": null,
   "metadata": {},
   "outputs": [
    {
     "name": "stdout",
     "output_type": "stream",
     "text": [
      "libtmux not installed ??\n"
     ]
    }
   ],
   "source": [
    "from mo_utils.utils.tmux_utils import get_session_list,tmux_session,get_session_name,kill_session\n",
    "from pathlib import Path"
   ]
  },
  {
   "cell_type": "code",
   "execution_count": null,
   "metadata": {},
   "outputs": [
    {
     "data": {
      "text/plain": [
       "[Session($3 sd_quantize_wb=4_wsym=False_gpu_5_debug),\n",
       " Session($0 sd_quantize_wb=8_wsym=True_gpu_6),\n",
       " Session($1 sd_quantize_wb=8_wsym=True_gpu_7)]"
      ]
     },
     "execution_count": 3,
     "metadata": {},
     "output_type": "execute_result"
    }
   ],
   "source": [
    "get_session_list()"
   ]
  },
  {
   "cell_type": "code",
   "execution_count": 58,
   "metadata": {},
   "outputs": [
    {
     "name": "stdout",
     "output_type": "stream",
     "text": [
      "before kill sessions=[Session($0 0), Session($27 sd_quantize_wb=8_wsym=True_gpu_6)]\n",
      "after kill sessions=[Session($0 0)]\n"
     ]
    }
   ],
   "source": [
    "#kill_session()"
   ]
  },
  {
   "cell_type": "code",
   "execution_count": 9,
   "metadata": {},
   "outputs": [],
   "source": [
    "task = 'quantize'\n",
    "gpu = 6\n",
    "prompt = \"a puppy wearing a hat\" \n",
    "weight_bit = 8\n",
    "symmetric_weight = True\n",
    "resume_w = False\n",
    "bs = 8\n",
    "outdir= \"output_quantization\"\n",
    "quant_act_ops = True\n",
    "#quantized_ckpt_path = '/home/nadavg/q-diffusion/output_quantization/2025-01-22-16-40-17/wc_ckpt.pth'\n",
    "quantized_ckpt_path = '/home/nadavg/q-diffusion/output_quantization2/2025-01-24-00-49-55/wc_ckpt.pth'\n",
    "cali_data_path='/fastdata/users/nadavg/sd/qdiff/sd_coco-s75_sample1024_allst.pt'\n",
    "debug = True"
   ]
  },
  {
   "cell_type": "code",
   "execution_count": 10,
   "metadata": {},
   "outputs": [],
   "source": [
    "cmd=(f\"python scripts/txt2img.py --prompt '{prompt}' --plms --cond --ptq --weight_bit {weight_bit} --quant_mode qdiff \"+\n",
    "    f\"--quant_act --act_bit 8 --cali_st 25 --cali_batch_size {bs} --cali_n 128 --no_grad_ckpt --split --running_stat \"+\n",
    "    f\"--sm_abit 16 --cali_data_path {cali_data_path} --outdir {outdir} \"+\n",
    "    symmetric_weight*\" --symmetric_weight \"+\n",
    "    resume_w*f\"--resume_w --cali_ckpt {quantized_ckpt_path} \"+\n",
    "    quant_act_ops*\" --quant_act_ops \"+\n",
    "    debug*\" --debug \"\n",
    "    )\n"
   ]
  },
  {
   "cell_type": "code",
   "execution_count": 11,
   "metadata": {},
   "outputs": [
    {
     "data": {
      "text/plain": [
       "\"python scripts/txt2img.py --prompt 'a puppy wearing a hat' --plms --cond --ptq --weight_bit 8 --quant_mode qdiff --quant_act --act_bit 8 --cali_st 25 --cali_batch_size 8 --cali_n 128 --no_grad_ckpt --split --running_stat --sm_abit 16 --cali_data_path /fastdata/users/nadavg/sd/qdiff/sd_coco-s75_sample1024_allst.pt --outdir output_quantization  --symmetric_weight  --quant_act_ops  --debug \""
      ]
     },
     "execution_count": 11,
     "metadata": {},
     "output_type": "execute_result"
    }
   ],
   "source": [
    "cmd"
   ]
  },
  {
   "cell_type": "code",
   "execution_count": 12,
   "metadata": {},
   "outputs": [],
   "source": [
    "inst_list = [f'cd {Path.home() / \"q-diffusion\"}',\n",
    "             f'conda activate qdiff',\n",
    "             f'export CUDA_VISIBLE_DEVICES={gpu}',\n",
    "             cmd]"
   ]
  },
  {
   "cell_type": "code",
   "execution_count": 13,
   "metadata": {},
   "outputs": [
    {
     "data": {
      "text/plain": [
       "['cd /home/nadavg/q-diffusion',\n",
       " 'conda activate qdiff',\n",
       " 'export CUDA_VISIBLE_DEVICES=6',\n",
       " \"python scripts/txt2img.py --prompt 'a puppy wearing a hat' --plms --cond --ptq --weight_bit 8 --quant_mode qdiff --quant_act --act_bit 8 --cali_st 25 --cali_batch_size 8 --cali_n 128 --no_grad_ckpt --split --running_stat --sm_abit 16 --cali_data_path /fastdata/users/nadavg/sd/qdiff/sd_coco-s75_sample1024_allst.pt --outdir output_quantization  --symmetric_weight  --quant_act_ops  --debug \"]"
      ]
     },
     "execution_count": 13,
     "metadata": {},
     "output_type": "execute_result"
    }
   ],
   "source": [
    "inst_list"
   ]
  },
  {
   "cell_type": "code",
   "execution_count": 14,
   "metadata": {},
   "outputs": [
    {
     "data": {
      "text/plain": [
       "'sd_quantize_wb=8_wsym=True_gpu_6_debug'"
      ]
     },
     "execution_count": 14,
     "metadata": {},
     "output_type": "execute_result"
    }
   ],
   "source": [
    "sess_name = get_session_name(f'sd_{task}_wb={weight_bit}_wsym={symmetric_weight}_gpu_{gpu}')\n",
    "sess_name = sess_name if not debug else sess_name + '_debug'\n",
    "\n",
    "sess_name"
   ]
  },
  {
   "cell_type": "code",
   "execution_count": 15,
   "metadata": {},
   "outputs": [
    {
     "name": "stdout",
     "output_type": "stream",
     "text": [
      "tmux attach -t \"sd_quantize_wb=8_wsym=True_gpu_6_debug\"\n"
     ]
    },
    {
     "data": {
      "text/plain": [
       "'sd_quantize_wb=8_wsym=True_gpu_6_debug'"
      ]
     },
     "execution_count": 15,
     "metadata": {},
     "output_type": "execute_result"
    }
   ],
   "source": [
    "tmux_session(sess_name,inst_list)"
   ]
  },
  {
   "cell_type": "code",
   "execution_count": 17,
   "metadata": {},
   "outputs": [
    {
     "name": "stdout",
     "output_type": "stream",
     "text": [
      "before kill sessions=[Session($2 sd_quantize_wb=4_wsym=False_gpu_5_debug), Session($0 sd_quantize_wb=8_wsym=True_gpu_6), Session($1 sd_quantize_wb=8_wsym=True_gpu_7)]\n",
      "after kill sessions=[Session($0 sd_quantize_wb=8_wsym=True_gpu_6), Session($1 sd_quantize_wb=8_wsym=True_gpu_7)]\n"
     ]
    }
   ],
   "source": [
    "kill_session(kill_only=sess_name)"
   ]
  }
 ],
 "metadata": {
  "kernelspec": {
   "display_name": "qdiff",
   "language": "python",
   "name": "python3"
  },
  "language_info": {
   "codemirror_mode": {
    "name": "ipython",
    "version": 3
   },
   "file_extension": ".py",
   "mimetype": "text/x-python",
   "name": "python",
   "nbconvert_exporter": "python",
   "pygments_lexer": "ipython3",
   "version": "3.8.5"
  }
 },
 "nbformat": 4,
 "nbformat_minor": 2
}
