{
 "cells": [
  {
   "cell_type": "code",
   "execution_count": 1,
   "metadata": {},
   "outputs": [],
   "source": [
    "import os,sys\n",
    "#sys.path.append('/work/qdiff/mo_utils')"
   ]
  },
  {
   "cell_type": "code",
   "execution_count": 2,
   "metadata": {},
   "outputs": [
    {
     "name": "stdout",
     "output_type": "stream",
     "text": [
      "libtmux not installed ??\n"
     ]
    }
   ],
   "source": [
    "from mo_utils.utils.tmux_utils import get_session_list,tmux_session,get_session_name,kill_session\n",
    "from pathlib import Path"
   ]
  },
  {
   "cell_type": "code",
   "execution_count": 3,
   "metadata": {},
   "outputs": [
    {
     "data": {
      "text/plain": [
       "[Session($3 jupyer),\n",
       " Session($0 sd_quantize_wb=8_wsym=True_gpu_0),\n",
       " Session($1 sd_quantize_wb=8_wsym=True_gpu_1),\n",
       " Session($2 sd_quantize_wb=8_wsym=True_gpu_3)]"
      ]
     },
     "execution_count": 3,
     "metadata": {},
     "output_type": "execute_result"
    }
   ],
   "source": [
    "get_session_list()"
   ]
  },
  {
   "cell_type": "code",
   "execution_count": 4,
   "metadata": {},
   "outputs": [],
   "source": [
    "#kill_session()"
   ]
  },
  {
   "cell_type": "code",
   "execution_count": 5,
   "metadata": {},
   "outputs": [],
   "source": [
    "#w8bit_sym,nbit,symmetric = '/fastdata/users/nadavg/sd/qdiff/output_quantization/2025-01-26-18-44-03/ckpt.pth',8,True"
   ]
  },
  {
   "cell_type": "code",
   "execution_count": 6,
   "metadata": {},
   "outputs": [],
   "source": [
    "nbit,symmetric = 8,True"
   ]
  },
  {
   "cell_type": "code",
   "execution_count": 25,
   "metadata": {},
   "outputs": [],
   "source": [
    "task = 'quantize'\n",
    "gpu = 1\n",
    "prompt = \"a puppy wearing a hat\" \n",
    "weight_bit = nbit\n",
    "symmetric_weight = symmetric#True\n",
    "bs = 8\n",
    "act_bit = 16\n",
    "outdir= \"/workspace/sd/qdiff/output_quantization\"\n",
    "quant_act_ops = True #False #True#True\n",
    "split_to_16bits = False\n",
    "\n",
    "resume_w = False\n",
    "accum_batches = True#True\n",
    "quantized_ckpt_path = '/home/nadavg/q-diffusion/output_quantization/2025-01-22-16-40-17/wc_ckpt.pth'\n",
    "#quantized_ckpt_path = w8bit_sym\n",
    "ddim_steps = 20\n",
    "\n",
    "\n",
    "if ddim_steps == 20:\n",
    "    cali_n= 128\n",
    "    cali_st = 10\n",
    "    cali_data_path = \"/fastdata/users/nadavg/sd/qdiff/gen_calib/calib_dict_steps20.pt\"\n",
    "    cali_iters = 20000#5000 \n",
    "    cali_iters_a = 5000\n",
    "    #act_bit = 16\n",
    "elif ddim_steps == 50:\n",
    "    cali_n= 128\n",
    "    cali_st = 25\n",
    "    cali_data_path = \"/fastdata/users/nadavg/sd/qdiff/gen_calib/calib_dict_steps50.pt\"\n",
    "    cali_iters = 20000#5000 \n",
    "    cali_iters_a = 5000 \n",
    "else:\n",
    "    raise ValueError('ddim_steps must be 20 or 50')\n",
    "\n",
    "#cali_data_path='/fastdata/users/nadavg/sd/qdiff/sd_coco-s75_sample1024_allst.pt'\n",
    "\n",
    "\n",
    "debug = False#True#False\n"
   ]
  },
  {
   "cell_type": "code",
   "execution_count": 26,
   "metadata": {},
   "outputs": [],
   "source": [
    "cmd=(f\"python scripts/txt2img.py --prompt '{prompt}' --plms --cond --ptq --weight_bit {weight_bit} --quant_mode qdiff \"+\n",
    "    f\"--quant_act --act_bit {act_bit} --cali_st {cali_st} --cali_batch_size {bs} --cali_n {cali_n} --no_grad_ckpt --split --running_stat \"+\n",
    "    f\"--sm_abit 16 --cali_data_path {cali_data_path} --outdir {outdir} --ddim_steps {ddim_steps}\" +\n",
    "    symmetric_weight*\" --symmetric_weight \"+\n",
    "    resume_w*f\"--resume_w --cali_ckpt {quantized_ckpt_path} \"+\n",
    "    quant_act_ops*\" --quant_act_ops \"+\n",
    "    split_to_16bits*\" --split_to_16bits \"+\n",
    "    accum_batches*\" --accum_batches \"+\n",
    "    f\"--cali_iters {cali_iters} --cali_iters_a {cali_iters_a} \"+\n",
    "    debug*\" --debug \"\n",
    "    )\n"
   ]
  },
  {
   "cell_type": "code",
   "execution_count": 27,
   "metadata": {},
   "outputs": [
    {
     "data": {
      "text/plain": [
       "\"python scripts/txt2img.py --prompt 'a puppy wearing a hat' --plms --cond --ptq --weight_bit 8 --quant_mode qdiff --quant_act --act_bit 16 --cali_st 10 --cali_batch_size 8 --cali_n 128 --no_grad_ckpt --split --running_stat --sm_abit 16 --cali_data_path /fastdata/users/nadavg/sd/qdiff/gen_calib/calib_dict_steps20.pt --outdir /workspace/sd/qdiff/output_quantization --ddim_steps 20 --symmetric_weight  --quant_act_ops  --accum_batches --cali_iters 20000 --cali_iters_a 5000 \""
      ]
     },
     "execution_count": 27,
     "metadata": {},
     "output_type": "execute_result"
    }
   ],
   "source": [
    "cmd"
   ]
  },
  {
   "cell_type": "code",
   "execution_count": 28,
   "metadata": {},
   "outputs": [],
   "source": [
    "inst_list = [f'cd {Path.home() / \"q-diffusion\"}',\n",
    "             f'conda activate qdiff',\n",
    "             f'export CUDA_VISIBLE_DEVICES={gpu}',\n",
    "             cmd]"
   ]
  },
  {
   "cell_type": "code",
   "execution_count": 29,
   "metadata": {},
   "outputs": [
    {
     "data": {
      "text/plain": [
       "['cd /home/nadavg/q-diffusion',\n",
       " 'conda activate qdiff',\n",
       " 'export CUDA_VISIBLE_DEVICES=1',\n",
       " \"python scripts/txt2img.py --prompt 'a puppy wearing a hat' --plms --cond --ptq --weight_bit 8 --quant_mode qdiff --quant_act --act_bit 16 --cali_st 10 --cali_batch_size 8 --cali_n 128 --no_grad_ckpt --split --running_stat --sm_abit 16 --cali_data_path /fastdata/users/nadavg/sd/qdiff/gen_calib/calib_dict_steps20.pt --outdir /workspace/sd/qdiff/output_quantization --ddim_steps 20 --symmetric_weight  --quant_act_ops  --accum_batches --cali_iters 20000 --cali_iters_a 5000 \"]"
      ]
     },
     "execution_count": 29,
     "metadata": {},
     "output_type": "execute_result"
    }
   ],
   "source": [
    "inst_list"
   ]
  },
  {
   "cell_type": "code",
   "execution_count": 30,
   "metadata": {},
   "outputs": [
    {
     "data": {
      "text/plain": [
       "'sd_quantize_wb=8_wsym=True_gpu_1'"
      ]
     },
     "execution_count": 30,
     "metadata": {},
     "output_type": "execute_result"
    }
   ],
   "source": [
    "sess_name = get_session_name(f'sd_{task}_wb={weight_bit}_wsym={symmetric_weight}_gpu_{gpu}')\n",
    "sess_name = sess_name if not debug else sess_name + '_debug'\n",
    "\n",
    "sess_name"
   ]
  },
  {
   "cell_type": "code",
   "execution_count": 31,
   "metadata": {},
   "outputs": [
    {
     "name": "stdout",
     "output_type": "stream",
     "text": [
      "tmux attach -t \"sd_quantize_wb=8_wsym=True_gpu_1\"\n"
     ]
    },
    {
     "data": {
      "text/plain": [
       "'sd_quantize_wb=8_wsym=True_gpu_1'"
      ]
     },
     "execution_count": 31,
     "metadata": {},
     "output_type": "execute_result"
    }
   ],
   "source": [
    "tmux_session(sess_name,inst_list)"
   ]
  },
  {
   "cell_type": "code",
   "execution_count": 36,
   "metadata": {},
   "outputs": [
    {
     "name": "stdout",
     "output_type": "stream",
     "text": [
      "before kill sessions=[Session($20 sd_quantize_wb=8_wsym=True_gpu_2), Session($19 sd_quantize_wb=8_wsym=True_gpu_3)]\n",
      "after kill sessions=[Session($19 sd_quantize_wb=8_wsym=True_gpu_3)]\n"
     ]
    }
   ],
   "source": [
    "#kill_session(kill_only=sess_name)"
   ]
  },
  {
   "cell_type": "code",
   "execution_count": null,
   "metadata": {},
   "outputs": [],
   "source": []
  }
 ],
 "metadata": {
  "kernelspec": {
   "display_name": "qdiff",
   "language": "python",
   "name": "python3"
  },
  "language_info": {
   "codemirror_mode": {
    "name": "ipython",
    "version": 3
   },
   "file_extension": ".py",
   "mimetype": "text/x-python",
   "name": "python",
   "nbconvert_exporter": "python",
   "pygments_lexer": "ipython3",
   "version": "3.8.5"
  }
 },
 "nbformat": 4,
 "nbformat_minor": 2
}
