{
 "cells": [
  {
   "cell_type": "code",
   "execution_count": 20,
   "metadata": {},
   "outputs": [],
   "source": [
    "%load_ext autoreload\n",
    "%autoreload 2"
   ]
  },
  {
   "cell_type": "code",
   "execution_count": 21,
   "metadata": {},
   "outputs": [
    {
     "name": "stdout",
     "output_type": "stream",
     "text": [
      "libtmux not installed ??\n"
     ]
    }
   ],
   "source": [
    "from mo_utils.utils.tmux_utils import get_session_list,tmux_session,get_session_name,kill_session\n",
    "from pathlib import Path"
   ]
  },
  {
   "cell_type": "code",
   "execution_count": 22,
   "metadata": {},
   "outputs": [],
   "source": [
    "import pandas as pd\n",
    "#df = pd.read_csv('exp.csv')\n",
    "df = pd.read_csv('exp_new.csv')"
   ]
  },
  {
   "cell_type": "code",
   "execution_count": 23,
   "metadata": {},
   "outputs": [
    {
     "data": {
      "text/plain": [
       "[Session($32 sd_eval_rtn*8-rtn-50s_gpu=0),\n",
       " Session($31 sd_eval_rtn*8-rtn-50s_gpu=1),\n",
       " Session($33 sd_eval_rtn8-rtn-20s_gpu=0),\n",
       " Session($34 sd_eval_rtn8-rtn-20s_gpu=1)]"
      ]
     },
     "execution_count": 23,
     "metadata": {},
     "output_type": "execute_result"
    }
   ],
   "source": [
    "get_session_list()"
   ]
  },
  {
   "cell_type": "code",
   "execution_count": 25,
   "metadata": {},
   "outputs": [],
   "source": [
    "#kill_session()"
   ]
  },
  {
   "cell_type": "code",
   "execution_count": 26,
   "metadata": {},
   "outputs": [
    {
     "data": {
      "text/plain": [
       "0      lsq8-ada-50s\n",
       "1      rtn8-ada-50s\n",
       "2      lsq8-ada-20s\n",
       "3      rtn8-ada-20s\n",
       "4      lsq8-rtn-50s\n",
       "5      rtn8-rtn-50s\n",
       "6      lsq8-rtn-20s\n",
       "7     rtn16-rtn-20s\n",
       "8      rtn8-rtn-20s\n",
       "9     rtn*8-rtn-20s\n",
       "10    rtn*8-rtn-50s\n",
       "11    rtn*8-ada-20s\n",
       "12    rtn*8-ada-50s\n",
       "Name: name, dtype: object"
      ]
     },
     "execution_count": 26,
     "metadata": {},
     "output_type": "execute_result"
    }
   ],
   "source": [
    "df.name#[6]"
   ]
  },
  {
   "cell_type": "code",
   "execution_count": 27,
   "metadata": {},
   "outputs": [
    {
     "name": "stdout",
     "output_type": "stream",
     "text": [
      "/workspace/sd/qdiff_naive/rtn/output_quantization/2025-02-24-14-44-42/ckpt.pth\n"
     ]
    },
    {
     "data": {
      "text/plain": [
       "name                                                        lsq8-rtn-50s\n",
       "ddim_steps                                                            50\n",
       "act_quant_mode                                                     qdiff\n",
       "act_bits                                                               8\n",
       "naive_quant_weights                                                 True\n",
       "quant_act_ops                                                       True\n",
       "split_to_16bits                                                    False\n",
       "bit                                                                    8\n",
       "symmetric                                                           True\n",
       "wandb                  https://wandb.ai/hailo-mo/q-diff-naive/runs/z7...\n",
       "cali_ckpt              /workspace/sd/qdiff_naive/rtn/output_quantizat...\n",
       "Name: 4, dtype: object"
      ]
     },
     "execution_count": 27,
     "metadata": {},
     "output_type": "execute_result"
    }
   ],
   "source": [
    "ind = 4\n",
    "print(df.iloc[ind].cali_ckpt)\n",
    "df.iloc[ind]#.cali_ckpt              "
   ]
  },
  {
   "cell_type": "code",
   "execution_count": 8,
   "metadata": {},
   "outputs": [
    {
     "data": {
      "text/plain": [
       "'lsq8-rtn-50s'"
      ]
     },
     "execution_count": 8,
     "metadata": {},
     "output_type": "execute_result"
    }
   ],
   "source": [
    "#df.iloc[ind].name\n",
    "df.name[ind]"
   ]
  },
  {
   "cell_type": "code",
   "execution_count": null,
   "metadata": {},
   "outputs": [],
   "source": [
    "list(range(-1,-5,-1))"
   ]
  },
  {
   "cell_type": "code",
   "execution_count": 8,
   "metadata": {},
   "outputs": [
    {
     "data": {
      "text/plain": [
       "['lsq8-rtn-50s',\n",
       " 'rtn8-rtn-50s',\n",
       " 'lsq8-rtn-20s',\n",
       " 'rtn8-rtn-20s',\n",
       " 'rtn*8-rtn-20s',\n",
       " 'rtn*8-rtn-50s']"
      ]
     },
     "execution_count": 8,
     "metadata": {},
     "output_type": "execute_result"
    }
   ],
   "source": [
    "[df.name[ind] for ind in [4,5,6,8,9,10]]"
   ]
  },
  {
   "cell_type": "code",
   "execution_count": null,
   "metadata": {},
   "outputs": [],
   "source": []
  },
  {
   "cell_type": "code",
   "execution_count": 16,
   "metadata": {},
   "outputs": [],
   "source": [
    "CMD = []\n",
    "output_base_folder = '/workspace/sd/ver_images_outputs_dt/puppy/native'\n",
    "ddim_discretize_types = ['uniform+' ,'quad', 'uniform']\n",
    "for ddim_discretize in ddim_discretize_types:\n",
    "    for ind in [4,6]:#(len(df)):\n",
    "        #ind = len(df) + i\n",
    "        native = False\n",
    "        puppy = True\n",
    "        cmd=f\"\"\"python scripts/gen_ver_images.py \n",
    "        --cali_ckpt {df.iloc[ind].cali_ckpt}\n",
    "        --nbit {int(df.iloc[ind].bit)}\n",
    "        --symmetric {df.iloc[ind].symmetric}\n",
    "        --quant_act_ops {df.iloc[ind].quant_act_ops}\n",
    "        --ddim_steps {int(df.iloc[ind].ddim_steps)}\n",
    "        --act_bits {int(df.iloc[ind].act_bits)}\n",
    "        --split_to_16bits {df.iloc[ind].split_to_16bits}\n",
    "        --naive_quant_weights {df.iloc[ind].naive_quant_weights}\n",
    "        --act_quant false\n",
    "        --weight_quant true\n",
    "        --num_images 12\n",
    "        --snr false\n",
    "        --save_outputs true\n",
    "        --ddim_discretize {ddim_discretize}\n",
    "        \"\"\"\n",
    "        if puppy:\n",
    "            cmd += f\"\"\"\n",
    "            --output_dir {output_base_folder}/{df.name[ind]}_{ddim_discretize}\n",
    "            --prompt \"a puppy wearing a hat\" \n",
    "            \"\"\"\n",
    "        else:\n",
    "            #cmd += f\"\"\"--output_dir /workspace/sd/ver_images/{df.name[ind]}\"\"\"\n",
    "            cmd += f\"\"\"--output_dir ver_images/new4/{df.name[ind]}\"\"\"\n",
    "                \n",
    "        cmd = cmd.replace('\\n',' ')\n",
    "        CMD.append(cmd)"
   ]
  },
  {
   "cell_type": "code",
   "execution_count": 24,
   "metadata": {},
   "outputs": [],
   "source": [
    "ind2snr = [4,5,6,8,9,10]"
   ]
  },
  {
   "cell_type": "code",
   "execution_count": 28,
   "metadata": {},
   "outputs": [
    {
     "data": {
      "text/plain": [
       "['rtn8-rtn-50s', 'rtn8-rtn-20s', 'rtn*8-rtn-20s', 'rtn*8-rtn-50s']"
      ]
     },
     "execution_count": 28,
     "metadata": {},
     "output_type": "execute_result"
    }
   ],
   "source": [
    "[df.name[ind] for ind in [5,8,9,10]]"
   ]
  },
  {
   "cell_type": "code",
   "execution_count": 42,
   "metadata": {},
   "outputs": [],
   "source": [
    "CMD = []\n",
    "ddim_discretize = 'uniform' #'uniform+' #'quad'# 'uniform'\n",
    "output_base_folder = '/workspace/sd/ver_images_outputs_dt/puppy/quant'\n",
    "for ind in reversed([5,8,9,10]):#ind2snr:#(len(df)):\n",
    "    #ind = len(df) + i\n",
    "    native = False\n",
    "    puppy = True\n",
    "    cmd=f\"\"\"python scripts/gen_ver_images.py \n",
    "    --cali_ckpt {df.iloc[ind].cali_ckpt}\n",
    "    --nbit {int(df.iloc[ind].bit)}\n",
    "    --symmetric {df.iloc[ind].symmetric}\n",
    "    --quant_act_ops {df.iloc[ind].quant_act_ops}\n",
    "    --ddim_steps {int(df.iloc[ind].ddim_steps)}\n",
    "    --act_bits {int(df.iloc[ind].act_bits)}\n",
    "    --split_to_16bits {df.iloc[ind].split_to_16bits}\n",
    "    --naive_quant_weights {df.iloc[ind].naive_quant_weights}\n",
    "    --act_quant true\n",
    "    --weight_quant true\n",
    "    --num_images 12\n",
    "    --snr false\n",
    "    --save_outputs true\n",
    "    --ddim_discretize {ddim_discretize}\n",
    "    \"\"\"\n",
    "    if puppy:\n",
    "        cmd += f\"\"\"\n",
    "        --output_dir {output_base_folder}/{df.name[ind]}_{ddim_discretize}_ff\n",
    "        --prompt \"a puppy wearing a hat\" \n",
    "        \"\"\"\n",
    "    else:\n",
    "        #cmd += f\"\"\"--output_dir /workspace/sd/ver_images/{df.name[ind]}\"\"\"\n",
    "        cmd += f\"\"\"--output_dir ver_images/new4/{df.name[ind]}\"\"\"\n",
    "            \n",
    "    cmd = cmd.replace('\\n',' ')\n",
    "    CMD.append(cmd)\n"
   ]
  },
  {
   "cell_type": "code",
   "execution_count": 43,
   "metadata": {},
   "outputs": [
    {
     "name": "stdout",
     "output_type": "stream",
     "text": [
      "python scripts/gen_ver_images.py      --cali_ckpt /workspace/sd/qdiff_naive/rtn1/output_quantization/2025-02-27-13-57-03/ckpt.pth     --nbit 8     --symmetric True     --quant_act_ops True     --ddim_steps 20     --act_bits 8     --split_to_16bits False     --naive_quant_weights True     --act_quant true     --weight_quant true     --num_images 12     --snr false     --save_outputs true     --ddim_discretize uniform              --output_dir /workspace/sd/ver_images_outputs_dt/puppy/quant/rtn*8-rtn-20s_uniform_ff         --prompt \"a puppy wearing a hat\"          \n"
     ]
    }
   ],
   "source": [
    "print(CMD[1])"
   ]
  },
  {
   "cell_type": "code",
   "execution_count": null,
   "metadata": {},
   "outputs": [],
   "source": []
  },
  {
   "cell_type": "code",
   "execution_count": 44,
   "metadata": {},
   "outputs": [
    {
     "data": {
      "text/plain": [
       "'python scripts/gen_ver_images.py      --cali_ckpt /workspace/sd/qdiff_naive/rtn/output_quantization/2025-02-23-17-22-20/ckpt.pth     --nbit 8     --symmetric True     --quant_act_ops True     --ddim_steps 50     --act_bits 8     --split_to_16bits False     --naive_quant_weights True     --act_quant true     --weight_quant true     --num_images 12     --snr false     --save_outputs true     --ddim_discretize uniform              --output_dir /workspace/sd/ver_images_outputs_dt/puppy/quant/rtn8-rtn-50s_uniform_ff         --prompt \"a puppy wearing a hat\"          '"
      ]
     },
     "execution_count": 44,
     "metadata": {},
     "output_type": "execute_result"
    }
   ],
   "source": [
    "cmd"
   ]
  },
  {
   "cell_type": "code",
   "execution_count": 45,
   "metadata": {},
   "outputs": [],
   "source": [
    "gpu = 1"
   ]
  },
  {
   "cell_type": "code",
   "execution_count": 46,
   "metadata": {},
   "outputs": [],
   "source": [
    "# inst_list = [f'cd {Path.home() / \"q-diffusion\"}',\n",
    "#             f'conda activate qdiff',\n",
    "#             f'export CUDA_VISIBLE_DEVICES={gpu}',\n",
    "#             cmd]"
   ]
  },
  {
   "cell_type": "code",
   "execution_count": 47,
   "metadata": {},
   "outputs": [],
   "source": [
    "inst_list = [f'cd {Path.home() / \"q-diffusion\"}',\n",
    "            f'conda activate qdiff',\n",
    "            f'export CUDA_VISIBLE_DEVICES={gpu}',\n",
    "            ]\n",
    "inst_list.extend(CMD)"
   ]
  },
  {
   "cell_type": "code",
   "execution_count": 48,
   "metadata": {},
   "outputs": [
    {
     "data": {
      "text/plain": [
       "['cd /home/nadavg/q-diffusion',\n",
       " 'conda activate qdiff',\n",
       " 'export CUDA_VISIBLE_DEVICES=1',\n",
       " 'python scripts/gen_ver_images.py      --cali_ckpt /workspace/sd/qdiff_naive/rtn1/output_quantization/2025-02-27-13-56-13/ckpt.pth     --nbit 8     --symmetric True     --quant_act_ops True     --ddim_steps 50     --act_bits 8     --split_to_16bits False     --naive_quant_weights True     --act_quant true     --weight_quant true     --num_images 12     --snr false     --save_outputs true     --ddim_discretize uniform              --output_dir /workspace/sd/ver_images_outputs_dt/puppy/quant/rtn*8-rtn-50s_uniform_ff         --prompt \"a puppy wearing a hat\"          ',\n",
       " 'python scripts/gen_ver_images.py      --cali_ckpt /workspace/sd/qdiff_naive/rtn1/output_quantization/2025-02-27-13-57-03/ckpt.pth     --nbit 8     --symmetric True     --quant_act_ops True     --ddim_steps 20     --act_bits 8     --split_to_16bits False     --naive_quant_weights True     --act_quant true     --weight_quant true     --num_images 12     --snr false     --save_outputs true     --ddim_discretize uniform              --output_dir /workspace/sd/ver_images_outputs_dt/puppy/quant/rtn*8-rtn-20s_uniform_ff         --prompt \"a puppy wearing a hat\"          ',\n",
       " 'python scripts/gen_ver_images.py      --cali_ckpt /workspace/sd/qdiff_naive/rtn/output_quantization/2025-02-26-11-19-23/ckpt.pth     --nbit 8     --symmetric True     --quant_act_ops True     --ddim_steps 20     --act_bits 8     --split_to_16bits False     --naive_quant_weights True     --act_quant true     --weight_quant true     --num_images 12     --snr false     --save_outputs true     --ddim_discretize uniform              --output_dir /workspace/sd/ver_images_outputs_dt/puppy/quant/rtn8-rtn-20s_uniform_ff         --prompt \"a puppy wearing a hat\"          ',\n",
       " 'python scripts/gen_ver_images.py      --cali_ckpt /workspace/sd/qdiff_naive/rtn/output_quantization/2025-02-23-17-22-20/ckpt.pth     --nbit 8     --symmetric True     --quant_act_ops True     --ddim_steps 50     --act_bits 8     --split_to_16bits False     --naive_quant_weights True     --act_quant true     --weight_quant true     --num_images 12     --snr false     --save_outputs true     --ddim_discretize uniform              --output_dir /workspace/sd/ver_images_outputs_dt/puppy/quant/rtn8-rtn-50s_uniform_ff         --prompt \"a puppy wearing a hat\"          ']"
      ]
     },
     "execution_count": 48,
     "metadata": {},
     "output_type": "execute_result"
    }
   ],
   "source": [
    "inst_list"
   ]
  },
  {
   "cell_type": "code",
   "execution_count": 49,
   "metadata": {},
   "outputs": [
    {
     "data": {
      "text/plain": [
       "'sd_eval_rtn8-rtn-50s_gpu=1'"
      ]
     },
     "execution_count": 49,
     "metadata": {},
     "output_type": "execute_result"
    }
   ],
   "source": [
    "task = 'eval'\n",
    "\n",
    "sess_name = get_session_name(f'sd_{task}_{df.name[ind]}_{gpu=}')\n",
    "\n",
    "#sess_name = sess_name if not debug else sess_name + '_debug'\n",
    "\n",
    "sess_name"
   ]
  },
  {
   "cell_type": "code",
   "execution_count": 50,
   "metadata": {},
   "outputs": [
    {
     "name": "stdout",
     "output_type": "stream",
     "text": [
      "tmux attach -t \"sd_eval_rtn8-rtn-50s_gpu=1\"\n"
     ]
    },
    {
     "data": {
      "text/plain": [
       "'sd_eval_rtn8-rtn-50s_gpu=1'"
      ]
     },
     "execution_count": 50,
     "metadata": {},
     "output_type": "execute_result"
    }
   ],
   "source": [
    "tmux_session(sess_name,inst_list)"
   ]
  },
  {
   "cell_type": "code",
   "execution_count": 23,
   "metadata": {},
   "outputs": [],
   "source": [
    "#kill_session(kill_only=sess_name)"
   ]
  },
  {
   "cell_type": "code",
   "execution_count": null,
   "metadata": {},
   "outputs": [
    {
     "name": "stdout",
     "output_type": "stream",
     "text": [
      "before kill sessions=[Session($29 sd_eval_rtn*8-rtn-50s_gpu=0), Session($30 sd_eval_rtn*8-rtn-50s_gpu=1)]\n",
      "after kill sessions=[]\n"
     ]
    }
   ],
   "source": [
    "#kill_session()"
   ]
  },
  {
   "cell_type": "code",
   "execution_count": null,
   "metadata": {},
   "outputs": [],
   "source": [
    "import torch\n",
    "import numpy as np\n"
   ]
  },
  {
   "cell_type": "code",
   "execution_count": null,
   "metadata": {},
   "outputs": [],
   "source": [
    "#snr= torch.load('/home/nadavg/q-diffusion/ver_images/test6/naive-50steps-rtn/snr.pth')\n",
    "#snr= torch.load('/home/nadavg/q-diffusion/ver_images/new2/lsq8-ada-20s/snr.pth')\n",
    "\n",
    "#snr = torch.load('/workspace/sd/ver_images_snr/puppy/lsq8-rtn-20s/snr.pth')\n",
    "snr = torch.load('/workspace/sd/ver_images_snr/puppy/lsq8-rtn-50s/snr.pth')"
   ]
  },
  {
   "cell_type": "code",
   "execution_count": null,
   "metadata": {},
   "outputs": [],
   "source": [
    "k = list(snr.keys())"
   ]
  },
  {
   "cell_type": "code",
   "execution_count": null,
   "metadata": {},
   "outputs": [],
   "source": [
    "ffk = [kk for kk in snr.keys() if 'ff' in kk]"
   ]
  },
  {
   "cell_type": "code",
   "execution_count": null,
   "metadata": {},
   "outputs": [],
   "source": [
    "len(ffk)"
   ]
  },
  {
   "cell_type": "code",
   "execution_count": null,
   "metadata": {},
   "outputs": [],
   "source": [
    "snr_ff = {kk:snr[kk] for kk in ffk}"
   ]
  },
  {
   "cell_type": "code",
   "execution_count": null,
   "metadata": {},
   "outputs": [],
   "source": [
    "print(ffk[9])\n",
    "np.array(snr_ff[ffk[1]])"
   ]
  },
  {
   "cell_type": "code",
   "execution_count": null,
   "metadata": {},
   "outputs": [],
   "source": [
    "snr_min = {kk: min(snr[kk]) for kk in k}"
   ]
  },
  {
   "cell_type": "code",
   "execution_count": null,
   "metadata": {},
   "outputs": [],
   "source": [
    "snr_min"
   ]
  },
  {
   "cell_type": "code",
   "execution_count": null,
   "metadata": {},
   "outputs": [],
   "source": [
    "# sort dict by values\n",
    "d= {k: v for k, v in sorted(snr_min.items(), key=lambda item: item[1]) if v < 30}"
   ]
  },
  {
   "cell_type": "code",
   "execution_count": null,
   "metadata": {},
   "outputs": [],
   "source": [
    "[k for k in d.keys() if 'input_blocks' in k]\n"
   ]
  },
  {
   "cell_type": "code",
   "execution_count": null,
   "metadata": {},
   "outputs": [],
   "source": []
  },
  {
   "cell_type": "code",
   "execution_count": 51,
   "metadata": {},
   "outputs": [],
   "source": [
    "import matplotlib.pyplot as plt\n",
    "import numpy as np\n"
   ]
  },
  {
   "cell_type": "code",
   "execution_count": 52,
   "metadata": {},
   "outputs": [],
   "source": [
    "folder_native='/work/users/nadavg/workspace/sd/ver_images_outputs_dt/puppy/native'\n",
    "folder_quant='/work/users/nadavg/workspace/sd/ver_images_outputs_dt/puppy/quant'"
   ]
  },
  {
   "cell_type": "code",
   "execution_count": 53,
   "metadata": {},
   "outputs": [],
   "source": [
    "type = 'quad'\n",
    "n20_quad = dict(np.load(f'{folder_native}/lsq8-rtn-20s_{type}/outputs_act_quant=False_weight_quant=True.npz',allow_pickle=True))['arr_0'].item()#.items()\n",
    "type = 'uniform'\n",
    "n20_uniform = dict(np.load(f'{folder_native}/lsq8-rtn-20s_{type}/outputs_act_quant=False_weight_quant=True.npz',allow_pickle=True))['arr_0'].item()#.items()\n",
    "type = 'uniform+'\n",
    "n20_uniformP = dict(np.load(f'{folder_native}/lsq8-rtn-20s_{type}/outputs_act_quant=False_weight_quant=True.npz',allow_pickle=True))['arr_0'].item()#.items()"
   ]
  },
  {
   "cell_type": "code",
   "execution_count": 54,
   "metadata": {},
   "outputs": [],
   "source": [
    "type = 'quad'\n",
    "n50_quad = dict(np.load(f'{folder_native}/lsq8-rtn-50s_{type}/outputs_act_quant=False_weight_quant=True.npz',allow_pickle=True))['arr_0'].item()#.items()\n",
    "type = 'uniform'\n",
    "n50_uniform = dict(np.load(f'{folder_native}/lsq8-rtn-50s_{type}/outputs_act_quant=False_weight_quant=True.npz',allow_pickle=True))['arr_0'].item()#.items()\n",
    "type = 'uniform+'\n",
    "n50_uniformP = dict(np.load(f'{folder_native}/lsq8-rtn-50s_{type}/outputs_act_quant=False_weight_quant=True.npz',allow_pickle=True))['arr_0'].item()#.items()"
   ]
  },
  {
   "cell_type": "code",
   "execution_count": 55,
   "metadata": {},
   "outputs": [],
   "source": [
    "### lsq8\n",
    "s = 20\n",
    "type = 'quad'\n",
    "q20_lsq_quad = dict(np.load(f'{folder_quant}/lsq8-rtn-{s}s_{type}/outputs_act_quant=True_weight_quant=True.npz',allow_pickle=True))['arr_0'].item()#.items()\n",
    "type = 'uniform'\n",
    "q20_lsq_uniform = dict(np.load(f'{folder_quant}/lsq8-rtn-{s}s_{type}/outputs_act_quant=True_weight_quant=True.npz',allow_pickle=True))['arr_0'].item()#.items()\n",
    "type = 'uniform+'\n",
    "q20_lsq_uniformP = dict(np.load(f'{folder_quant}/lsq8-rtn-{s}s_{type}/outputs_act_quant=True_weight_quant=True.npz',allow_pickle=True))['arr_0'].item()#.items()\n",
    "### rtn8\n",
    "type = 'quad'\n",
    "q20_rtn_quad = dict(np.load(f'{folder_quant}/rtn8-rtn-{s}s_{type}/outputs_act_quant=True_weight_quant=True.npz',allow_pickle=True))['arr_0'].item()#.items()\n",
    "type = 'uniform'\n",
    "q20_rtn_uniform = dict(np.load(f'{folder_quant}/rtn8-rtn-{s}s_{type}/outputs_act_quant=True_weight_quant=True.npz',allow_pickle=True))['arr_0'].item()#.items()\n",
    "type = 'uniform+'\n",
    "q20_rtn_uniformP = dict(np.load(f'{folder_quant}/rtn8-rtn-{s}s_{type}/outputs_act_quant=True_weight_quant=True.npz',allow_pickle=True))['arr_0'].item()#.items()\n",
    "### rtn8*\n",
    "type = 'quad'\n",
    "q20_rtn1_quad = dict(np.load(f'{folder_quant}/rtn*8-rtn-{s}s_{type}/outputs_act_quant=True_weight_quant=True.npz',allow_pickle=True))['arr_0'].item()#.items()\n",
    "type = 'uniform'\n",
    "q20_rtn1_uniform = dict(np.load(f'{folder_quant}/rtn*8-rtn-{s}s_{type}/outputs_act_quant=True_weight_quant=True.npz',allow_pickle=True))['arr_0'].item()#.items()\n",
    "type = 'uniform+'\n",
    "q20_rtn1_uniformP = dict(np.load(f'{folder_quant}/rtn*8-rtn-{s}s_{type}/outputs_act_quant=True_weight_quant=True.npz',allow_pickle=True))['arr_0'].item()#.items()\n"
   ]
  },
  {
   "cell_type": "code",
   "execution_count": 56,
   "metadata": {},
   "outputs": [],
   "source": [
    "### lsq8\n",
    "s = 50\n",
    "type = 'quad'\n",
    "q50_lsq_quad = dict(np.load(f'{folder_quant}/lsq8-rtn-{s}s_{type}/outputs_act_quant=True_weight_quant=True.npz',allow_pickle=True))['arr_0'].item()#.items()\n",
    "type = 'uniform'\n",
    "q50_lsq_uniform = dict(np.load(f'{folder_quant}/lsq8-rtn-{s}s_{type}/outputs_act_quant=True_weight_quant=True.npz',allow_pickle=True))['arr_0'].item()#.items()\n",
    "type = 'uniform+'\n",
    "q50_lsq_uniformP = dict(np.load(f'{folder_quant}/lsq8-rtn-{s}s_{type}/outputs_act_quant=True_weight_quant=True.npz',allow_pickle=True))['arr_0'].item()#.items()\n",
    "### rtn8\n",
    "type = 'quad'\n",
    "q50_rtn_quad = dict(np.load(f'{folder_quant}/rtn8-rtn-{s}s_{type}/outputs_act_quant=True_weight_quant=True.npz',allow_pickle=True))['arr_0'].item()#.items()\n",
    "type = 'uniform'\n",
    "q50_rtn_uniform = dict(np.load(f'{folder_quant}/rtn8-rtn-{s}s_{type}/outputs_act_quant=True_weight_quant=True.npz',allow_pickle=True))['arr_0'].item()#.items()\n",
    "type = 'uniform+'\n",
    "q50_rtn_uniformP = dict(np.load(f'{folder_quant}/rtn8-rtn-{s}s_{type}/outputs_act_quant=True_weight_quant=True.npz',allow_pickle=True))['arr_0'].item()#.items()\n",
    "### rtn8*\n",
    "type = 'quad'\n",
    "q50_rtn1_quad = dict(np.load(f'{folder_quant}/rtn*8-rtn-{s}s_{type}/outputs_act_quant=True_weight_quant=True.npz',allow_pickle=True))['arr_0'].item()#.items()\n",
    "type = 'uniform'\n",
    "q50_rtn1_uniform = dict(np.load(f'{folder_quant}/rtn*8-rtn-{s}s_{type}/outputs_act_quant=True_weight_quant=True.npz',allow_pickle=True))['arr_0'].item()#.items()\n",
    "type = 'uniform+'\n",
    "q50_rtn1_uniformP = dict(np.load(f'{folder_quant}/rtn*8-rtn-{s}s_{type}/outputs_act_quant=True_weight_quant=True.npz',allow_pickle=True))['arr_0'].item()#.items()\n"
   ]
  },
  {
   "cell_type": "code",
   "execution_count": 58,
   "metadata": {},
   "outputs": [],
   "source": [
    "## ff\n",
    "type = 'uniform'\n",
    "s=20\n",
    "q20_rtn_uniform_ff = dict(np.load(f'{folder_quant}/rtn8-rtn-{s}s_{type}_ff/outputs_act_quant=True_weight_quant=True.npz',allow_pickle=True))['arr_0'].item()#.items()\n",
    "q20_rtn1_uniform_ff = dict(np.load(f'{folder_quant}/rtn*8-rtn-{s}s_{type}_ff/outputs_act_quant=True_weight_quant=True.npz',allow_pickle=True))['arr_0'].item()#.items()\n",
    "s=50\n",
    "q50_rtn_uniform_ff = dict(np.load(f'{folder_quant}/rtn8-rtn-{s}s_{type}_ff/outputs_act_quant=True_weight_quant=True.npz',allow_pickle=True))['arr_0'].item()#.items()\n",
    "q50_rtn1_uniform_ff = dict(np.load(f'{folder_quant}/rtn*8-rtn-{s}s_{type}_ff/outputs_act_quant=True_weight_quant=True.npz',allow_pickle=True))['arr_0'].item()#.items()"
   ]
  },
  {
   "cell_type": "code",
   "execution_count": 78,
   "metadata": {},
   "outputs": [
    {
     "data": {
      "text/plain": [
       "(21, 2, 4096, 320)"
      ]
     },
     "execution_count": 78,
     "metadata": {},
     "output_type": "execute_result"
    }
   ],
   "source": [
    "q20_rtn_uniform_ff[k].shape"
   ]
  },
  {
   "cell_type": "code",
   "execution_count": 59,
   "metadata": {},
   "outputs": [],
   "source": [
    "k = 'model.output_blocks.11.1.transformer_blocks.0.ff.net.2'"
   ]
  },
  {
   "cell_type": "code",
   "execution_count": 60,
   "metadata": {},
   "outputs": [],
   "source": [
    "calc_snr = lambda x,y : 10*np.log10(np.mean(x**2)/np.mean((x-y)**2))\n",
    "def calc_snr_key(n20,q20,key):\n",
    "    return [ calc_snr(n20[key][i],q20[key][i]) for i in range(n20[key].shape[0])]"
   ]
  },
  {
   "cell_type": "code",
   "execution_count": 62,
   "metadata": {},
   "outputs": [],
   "source": [
    "from ldm.modules.diffusionmodules.util import make_ddim_sampling_parameters, make_ddim_timesteps, noise_like\n",
    "\n",
    "ds_50_uni = np.flip(make_ddim_timesteps(ddim_discr_method=\"uniform\", num_ddim_timesteps=50,num_ddpm_timesteps=1000,verbose=False))\n",
    "ds_20_uni = np.flip(make_ddim_timesteps(ddim_discr_method=\"uniform\", num_ddim_timesteps=20,num_ddpm_timesteps=1000,verbose=False))\n",
    "ds_50_quad = np.flip(make_ddim_timesteps(ddim_discr_method=\"quad\", num_ddim_timesteps=50,num_ddpm_timesteps=1000,verbose=False))\n",
    "ds_20_quad = np.flip(make_ddim_timesteps(ddim_discr_method=\"quad\", num_ddim_timesteps=20,num_ddpm_timesteps=1000,verbose=False))\n",
    "ds_50_uniP = np.flip(make_ddim_timesteps(ddim_discr_method=\"uniform+\", num_ddim_timesteps=50,num_ddpm_timesteps=1000,verbose=False))\n",
    "ds_20_uniP = np.flip(make_ddim_timesteps(ddim_discr_method=\"uniform+\", num_ddim_timesteps=20,num_ddpm_timesteps=1000,verbose=False))\n"
   ]
  },
  {
   "cell_type": "code",
   "execution_count": 68,
   "metadata": {},
   "outputs": [
    {
     "data": {
      "text/plain": [
       "[18.732696771621704,\n",
       " 18.61974835395813,\n",
       " 18.635472059249878,\n",
       " 18.54416251182556,\n",
       " 18.45486044883728,\n",
       " 18.23636770248413,\n",
       " 18.1579852104187,\n",
       " 17.71676778793335,\n",
       " 17.160276174545288,\n",
       " 16.028528213500977,\n",
       " 16.360831260681152,\n",
       " 15.360710620880127,\n",
       " 14.93962049484253,\n",
       " 14.502182006835938,\n",
       " 13.619177341461182,\n",
       " 12.868658304214478,\n",
       " 12.26778507232666,\n",
       " 11.260334253311157,\n",
       " 10.549901723861694,\n",
       " 9.138349294662476,\n",
       " 8.492311835289001,\n",
       " 7.988196015357971,\n",
       " 7.6780784130096436,\n",
       " 6.902530193328857,\n",
       " 6.9960618019104,\n",
       " 5.832640528678894,\n",
       " 5.698975324630737,\n",
       " 5.077458620071411,\n",
       " 4.83262300491333,\n",
       " 4.297298192977905,\n",
       " 3.977922201156616,\n",
       " 3.5913705825805664,\n",
       " 3.317117393016815,\n",
       " 3.105674982070923,\n",
       " 2.8356269001960754,\n",
       " 2.693580985069275,\n",
       " 2.5462865829467773,\n",
       " 2.3510903120040894,\n",
       " 2.3063483834266663,\n",
       " 2.148338556289673,\n",
       " 2.0971110463142395,\n",
       " 1.9848088920116425,\n",
       " 1.8877777457237244,\n",
       " 1.8762731552124023,\n",
       " 1.8314096331596375,\n",
       " 1.8455711007118225,\n",
       " 1.8283437192440033,\n",
       " 1.8863849341869354,\n",
       " 1.9578701257705688,\n",
       " 2.1287065744400024,\n",
       " 3.7284481525421143]"
      ]
     },
     "execution_count": 68,
     "metadata": {},
     "output_type": "execute_result"
    }
   ],
   "source": [
    "calc_snr_key(n20_uniform,q20_lsq_uniform,k)\n",
    "calc_snr_key(n50_uniform,q50_lsq_uniform,k)"
   ]
  },
  {
   "cell_type": "code",
   "execution_count": 80,
   "metadata": {},
   "outputs": [
    {
     "data": {
      "text/plain": [
       "Text(0, 0.5, 'SNR[db]')"
      ]
     },
     "execution_count": 80,
     "metadata": {},
     "output_type": "execute_result"
    },
    {
     "data": {
      "image/png": "[encoded data removed]",
      "text/plain": [
       "<Figure size 640x480 with 1 Axes>"
      ]
     },
     "metadata": {},
     "output_type": "display_data"
    }
   ],
   "source": [
    "f,ax = plt.subplots()\n",
    "#ax.plot(ds_20_uni,calc_snr_key(n20_uniform,q20_rtn_uniform,k)[1:],label='20 steps rtn')\n",
    "ax.plot(ds_20_uni,calc_snr_key(n20_uniform,q20_lsq_uniform,k)[1:],label='20s lsq')\n",
    "ax.plot(ds_20_uniP,calc_snr_key(n20_uniformP,q20_lsq_uniformP,k)[1:],label='20sP lsq')\n",
    "#ax.plot(ds_20_uni,calc_snr_key(n20_uniform,q20_rtn_uniform_ff,k)[1:],label='20s rtn ff')\n",
    "#ax.plot(ds_50_uni,calc_snr_key(n50_uniform,q50_rtn_uniform,k)[1:],label='50 steps rtn')\n",
    "ax.plot(ds_50_uni,calc_snr_key(n50_uniform,q50_lsq_uniform,k)[1:],label='50s lsq')\n",
    "\n",
    "#ax.plot(ds_50_uni,calc_snr_key()[1:],label='50 steps')\n",
    "#ax.plot(ds_20_uni,calc_snr_key()[1:],label='20 steps ff')\n",
    "#ax.plot(ds_50_uni,calc_snr_key()[1:],label='50 steps ff')    \n",
    "ax.legend()\n",
    "ax.set_title(k)\n",
    "ax.invert_xaxis()\n",
    "ax.set_xlabel('timesteps')\n",
    "ax.set_ylabel('SNR[db]')"
   ]
  },
  {
   "cell_type": "code",
   "execution_count": null,
   "metadata": {},
   "outputs": [],
   "source": []
  },
  {
   "cell_type": "code",
   "execution_count": null,
   "metadata": {},
   "outputs": [],
   "source": []
  },
  {
   "cell_type": "code",
   "execution_count": null,
   "metadata": {},
   "outputs": [],
   "source": []
  },
  {
   "cell_type": "code",
   "execution_count": null,
   "metadata": {},
   "outputs": [],
   "source": []
  },
  {
   "cell_type": "code",
   "execution_count": 81,
   "metadata": {},
   "outputs": [],
   "source": [
    "folder='/workspace/sd/ver_images_outputs/puppy/lsq8-rtn-20s'\n",
    "n20 = dict(np.load(f'{folder}/outputs_act_quant=False.npz',allow_pickle=True))#.items()\n",
    "q20 = dict(np.load(f'{folder}/outputs_act_quant=True.npz',allow_pickle=True))\n",
    "n20 = n20['arr_0'].item()\n",
    "q20 = q20['arr_0'].item()"
   ]
  },
  {
   "cell_type": "code",
   "execution_count": 82,
   "metadata": {},
   "outputs": [],
   "source": [
    "folder='/workspace/sd/ver_images_outputs/puppy/lsq8-rtn-50s'\n",
    "n50 = dict(np.load(f'{folder}/outputs_act_quant=False.npz',allow_pickle=True))#.items()\n",
    "q50 = dict(np.load(f'{folder}/outputs_act_quant=True.npz',allow_pickle=True))\n",
    "n50 = n50['arr_0'].item()\n",
    "q50 = q50['arr_0'].item()"
   ]
  },
  {
   "cell_type": "code",
   "execution_count": 84,
   "metadata": {},
   "outputs": [],
   "source": [
    "folder='/workspace/sd/ver_images_outputs/puppy'\n",
    "ff50 = dict(np.load(f'{folder}/lsq8-rtn-50s_ff/outputs_act_quant=True.npz',allow_pickle=True))#.items()\n",
    "ff20 = dict(np.load(f'{folder}/lsq8-rtn-20s_ff/outputs_act_quant=True.npz',allow_pickle=True))\n",
    "ff50 = ff50['arr_0'].item()\n",
    "ff20 = ff20['arr_0'].item()"
   ]
  },
  {
   "cell_type": "code",
   "execution_count": 85,
   "metadata": {},
   "outputs": [],
   "source": [
    "#ff50\n",
    "#type(dict(n20.items())['arr_0'])\n",
    "#['model.input_blocks.1.1.transformer_blocks.0.ff.net.0.proj']"
   ]
  },
  {
   "cell_type": "code",
   "execution_count": 86,
   "metadata": {},
   "outputs": [],
   "source": [
    "k = list(ff20.keys())"
   ]
  },
  {
   "cell_type": "code",
   "execution_count": 87,
   "metadata": {},
   "outputs": [
    {
     "data": {
      "text/plain": [
       "(21, 2, 4096, 2560)"
      ]
     },
     "execution_count": 87,
     "metadata": {},
     "output_type": "execute_result"
    }
   ],
   "source": [
    "n20[k[0]].shape"
   ]
  },
  {
   "cell_type": "code",
   "execution_count": 88,
   "metadata": {},
   "outputs": [],
   "source": [
    "calc_snr = lambda x,y : 10*np.log10(np.mean(x**2)/np.mean((x-y)**2))"
   ]
  },
  {
   "cell_type": "code",
   "execution_count": 89,
   "metadata": {},
   "outputs": [],
   "source": [
    "def calc_snr_key(n20,q20,key):\n",
    "    return [ calc_snr(n20[key][i],q20[key][i]) for i in range(n20[key].shape[0])]"
   ]
  },
  {
   "cell_type": "code",
   "execution_count": 90,
   "metadata": {},
   "outputs": [
    {
     "data": {
      "text/plain": [
       "'model.output_blocks.11.1.transformer_blocks.0.ff.net.2'"
      ]
     },
     "execution_count": 90,
     "metadata": {},
     "output_type": "execute_result"
    }
   ],
   "source": [
    "k[-1]"
   ]
  },
  {
   "cell_type": "code",
   "execution_count": 97,
   "metadata": {},
   "outputs": [
    {
     "name": "stdout",
     "output_type": "stream",
     "text": [
      "model.output_blocks.11.1.transformer_blocks.0.ff.net.2\n"
     ]
    }
   ],
   "source": [
    "print(k[-1])\n",
    "s20 = calc_snr_key(n20,q20,k[-1])\n",
    "s50 = calc_snr_key(n50,q50,k[-1])"
   ]
  },
  {
   "cell_type": "code",
   "execution_count": 92,
   "metadata": {},
   "outputs": [
    {
     "data": {
      "text/plain": [
       "'model.input_blocks.2.1.transformer_blocks.0.ff.net.0.proj'"
      ]
     },
     "execution_count": 92,
     "metadata": {},
     "output_type": "execute_result"
    }
   ],
   "source": [
    "k[2]"
   ]
  },
  {
   "cell_type": "code",
   "execution_count": 98,
   "metadata": {},
   "outputs": [
    {
     "name": "stdout",
     "output_type": "stream",
     "text": [
      "model.output_blocks.11.1.transformer_blocks.0.ff.net.2\n"
     ]
    }
   ],
   "source": [
    "print(k[-1])\n",
    "s20ff = calc_snr_key(n20,ff20,k[-1])\n",
    "s50ff = calc_snr_key(n50,ff50,k[-1])"
   ]
  },
  {
   "cell_type": "code",
   "execution_count": 137,
   "metadata": {},
   "outputs": [
    {
     "name": "stdout",
     "output_type": "stream",
     "text": [
      "Selected timesteps for ddim sampler: [  1   3   9  20  36  56  80 109 142 180 222 269 320 375 435 499 568 641\n",
      " 719 801]\n"
     ]
    }
   ],
   "source": [
    "ddim_timesteps_20 = make_ddim_timesteps(ddim_discr_method=\"quad\", num_ddim_timesteps=20,\n",
    "                                                  num_ddpm_timesteps=1000)"
   ]
  },
  {
   "cell_type": "code",
   "execution_count": 138,
   "metadata": {},
   "outputs": [
    {
     "name": "stdout",
     "output_type": "stream",
     "text": [
      "Selected timesteps for ddim sampler: [  1  51 101 151 201 251 301 351 401 451 501 551 601 651 701 751 801 851\n",
      " 901 951]\n"
     ]
    }
   ],
   "source": [
    "ddim_timesteps_20 = make_ddim_timesteps(ddim_discr_method=\"uniform\", num_ddim_timesteps=20,\n",
    "                                                  num_ddpm_timesteps=1000)"
   ]
  },
  {
   "cell_type": "code",
   "execution_count": null,
   "metadata": {},
   "outputs": [],
   "source": [
    "ddim_timesteps_20"
   ]
  },
  {
   "cell_type": "code",
   "execution_count": 94,
   "metadata": {},
   "outputs": [
    {
     "name": "stdout",
     "output_type": "stream",
     "text": [
      "Selected timesteps for ddim sampler: [  1  21  41  61  81 101 121 141 161 181 201 221 241 261 281 301 321 341\n",
      " 361 381 401 421 441 461 481 501 521 541 561 581 601 621 641 661 681 701\n",
      " 721 741 761 781 801 821 841 861 881 901 921 941 961 981]\n",
      "Selected timesteps for ddim sampler: [  1  51 101 151 201 251 301 351 401 451 501 551 601 651 701 751 801 851\n",
      " 901 951]\n"
     ]
    }
   ],
   "source": [
    "from ldm.modules.diffusionmodules.util import make_ddim_sampling_parameters, make_ddim_timesteps, noise_like\n",
    "\n",
    "ddim_timesteps_50 = make_ddim_timesteps(ddim_discr_method=\"uniform\", num_ddim_timesteps=50,\n",
    "                                                  num_ddpm_timesteps=1000)\n",
    "ddim_timesteps_20 = make_ddim_timesteps(ddim_discr_method=\"uniform\", num_ddim_timesteps=20,\n",
    "                                                  num_ddpm_timesteps=1000)\n",
    "ddim_timesteps_20 = np.flip(ddim_timesteps_20)\n",
    "ddim_timesteps_50 = np.flip(ddim_timesteps_50)\n"
   ]
  },
  {
   "cell_type": "code",
   "execution_count": 95,
   "metadata": {},
   "outputs": [
    {
     "data": {
      "text/plain": [
       "20"
      ]
     },
     "execution_count": 95,
     "metadata": {},
     "output_type": "execute_result"
    }
   ],
   "source": [
    "len(ddim_timesteps_20)"
   ]
  },
  {
   "cell_type": "code",
   "execution_count": 99,
   "metadata": {},
   "outputs": [
    {
     "data": {
      "text/plain": [
       "Text(0, 0.5, 'SNR[db]')"
      ]
     },
     "execution_count": 99,
     "metadata": {},
     "output_type": "execute_result"
    },
    {
     "data": {
      "image/png": "[encoded data removed]",
      "text/plain": [
       "<Figure size 640x480 with 1 Axes>"
      ]
     },
     "metadata": {},
     "output_type": "display_data"
    }
   ],
   "source": [
    "f,ax = plt.subplots()\n",
    "ax.plot(ddim_timesteps_20,s20[1:],label='20 steps')\n",
    "ax.plot(ddim_timesteps_50,s50[1:],label='50 steps')\n",
    "ax.plot(ddim_timesteps_20,s20ff[1:],label='20 steps ff')\n",
    "ax.plot(ddim_timesteps_50,s50ff[1:],label='50 steps ff')    \n",
    "ax.legend()\n",
    "ax.set_title(k[-1])\n",
    "ax.invert_xaxis()\n",
    "ax.set_xlabel('timesteps')\n",
    "ax.set_ylabel('SNR[db]')"
   ]
  },
  {
   "cell_type": "code",
   "execution_count": null,
   "metadata": {},
   "outputs": [],
   "source": []
  },
  {
   "cell_type": "code",
   "execution_count": null,
   "metadata": {},
   "outputs": [
    {
     "name": "stdout",
     "output_type": "stream",
     "text": [
      "model.input_blocks.1.1.transformer_blocks.0.ff.net.0.proj\n"
     ]
    },
    {
     "data": {
      "text/plain": [
       "[21.72661781311035,\n",
       " 21.437995433807373,\n",
       " 21.726365089416504,\n",
       " 20.55222511291504,\n",
       " 18.82064938545227,\n",
       " 16.400301456451416,\n",
       " 15.397697687149048,\n",
       " 14.89408254623413,\n",
       " 14.493814706802368,\n",
       " 13.10482144355774,\n",
       " 12.610267400741577,\n",
       " 11.894510984420776,\n",
       " 10.738259553909302,\n",
       " 10.500990152359009,\n",
       " 9.551621079444885,\n",
       " 9.057884216308594,\n",
       " 8.496097326278687,\n",
       " 7.8500038385391235,\n",
       " 7.336477637290955,\n",
       " 6.649942398071289,\n",
       " 5.18532931804657]"
      ]
     },
     "metadata": {},
     "output_type": "display_data"
    }
   ],
   "source": [
    "print(k[0])\n",
    "calc_snr_key(n20,q20,k[2])"
   ]
  },
  {
   "cell_type": "code",
   "execution_count": null,
   "metadata": {},
   "outputs": [],
   "source": []
  },
  {
   "cell_type": "code",
   "execution_count": null,
   "metadata": {},
   "outputs": [],
   "source": [
    "from gen_ver_images import gen_ver_images"
   ]
  },
  {
   "cell_type": "code",
   "execution_count": null,
   "metadata": {},
   "outputs": [],
   "source": [
    "import torch\n",
    "torch.set_warn_always(False)"
   ]
  },
  {
   "cell_type": "code",
   "execution_count": null,
   "metadata": {},
   "outputs": [],
   "source": [
    "import os \n",
    "os.environ['CUDA_VISIBLE_DEVICES'] = '2'"
   ]
  },
  {
   "cell_type": "code",
   "execution_count": null,
   "metadata": {},
   "outputs": [],
   "source": [
    "os.environ['CUDA_VISIBLE_DEVICES']"
   ]
  },
  {
   "cell_type": "code",
   "execution_count": null,
   "metadata": {},
   "outputs": [],
   "source": [
    "import pandas as pd\n",
    "df = pd.read_csv('exp.csv')"
   ]
  },
  {
   "cell_type": "code",
   "execution_count": null,
   "metadata": {},
   "outputs": [],
   "source": [
    "df.columns"
   ]
  },
  {
   "cell_type": "code",
   "execution_count": null,
   "metadata": {},
   "outputs": [],
   "source": [
    "ind = 0"
   ]
  },
  {
   "cell_type": "code",
   "execution_count": null,
   "metadata": {},
   "outputs": [],
   "source": [
    "df.iloc[ind]"
   ]
  },
  {
   "cell_type": "code",
   "execution_count": null,
   "metadata": {},
   "outputs": [],
   "source": [
    "import yaml\n",
    "from pathlib import Path\n",
    "prompts  = yaml.load(\n",
    "                open(f'{Path.home()}/q-diffusion/scripts/prompt.yaml','r'),Loader=yaml.FullLoader\n",
    "                )"
   ]
  },
  {
   "cell_type": "code",
   "execution_count": null,
   "metadata": {},
   "outputs": [],
   "source": [
    "prompts[0]"
   ]
  },
  {
   "cell_type": "code",
   "execution_count": null,
   "metadata": {},
   "outputs": [],
   "source": [
    "for ind, (_,prompt,seed) in enumerate(prompts[:6]):\n",
    "    print(ind,prompt,seed)"
   ]
  },
  {
   "cell_type": "code",
   "execution_count": null,
   "metadata": {},
   "outputs": [],
   "source": [
    "prompts[0][0]"
   ]
  },
  {
   "cell_type": "code",
   "execution_count": null,
   "metadata": {},
   "outputs": [],
   "source": [
    "grid = gen_ver_images(cali_ckpt= df.cali_ckpt[ind],\n",
    "                      nbit= df.bit[ind],\n",
    "                      symmetric= df.symmetric[ind],\n",
    "                      quant_act_ops= df.quant_act_ops[ind],\n",
    "                      ddim_steps= int(df.ddim_steps[ind]),\n",
    "                      act_bits= df.act_bits[ind],\n",
    "                      split_to_16bits= df.split_to_16bits[ind],\n",
    "                      naive_quant_weights= df.naive_quant_weights[ind],\n",
    "                      num_images = 2 )"
   ]
  },
  {
   "cell_type": "code",
   "execution_count": null,
   "metadata": {},
   "outputs": [],
   "source": [
    "g = np.array(grid)"
   ]
  },
  {
   "cell_type": "code",
   "execution_count": null,
   "metadata": {},
   "outputs": [],
   "source": [
    "plt.imshow(g)"
   ]
  },
  {
   "cell_type": "code",
   "execution_count": null,
   "metadata": {},
   "outputs": [],
   "source": [
    "import numpy as np\n",
    "import matplotlib.pyplot as plt\n",
    "plt.imshow(grid)"
   ]
  },
  {
   "cell_type": "code",
   "execution_count": null,
   "metadata": {},
   "outputs": [],
   "source": [
    "%debug"
   ]
  },
  {
   "cell_type": "code",
   "execution_count": null,
   "metadata": {},
   "outputs": [],
   "source": []
  },
  {
   "cell_type": "code",
   "execution_count": null,
   "metadata": {},
   "outputs": [],
   "source": []
  },
  {
   "cell_type": "code",
   "execution_count": null,
   "metadata": {},
   "outputs": [],
   "source": []
  },
  {
   "cell_type": "code",
   "execution_count": null,
   "metadata": {},
   "outputs": [],
   "source": []
  },
  {
   "cell_type": "code",
   "execution_count": null,
   "metadata": {},
   "outputs": [],
   "source": []
  },
  {
   "cell_type": "code",
   "execution_count": null,
   "metadata": {},
   "outputs": [],
   "source": []
  },
  {
   "cell_type": "code",
   "execution_count": null,
   "metadata": {},
   "outputs": [],
   "source": []
  },
  {
   "cell_type": "code",
   "execution_count": null,
   "metadata": {},
   "outputs": [],
   "source": []
  },
  {
   "cell_type": "code",
   "execution_count": null,
   "metadata": {},
   "outputs": [],
   "source": [
    "bin(1)"
   ]
  },
  {
   "cell_type": "code",
   "execution_count": null,
   "metadata": {},
   "outputs": [],
   "source": [
    "format(-5, '08b')"
   ]
  },
  {
   "cell_type": "code",
   "execution_count": null,
   "metadata": {},
   "outputs": [],
   "source": [
    "int('0b11111011', 2)\n"
   ]
  },
  {
   "cell_type": "code",
   "execution_count": null,
   "metadata": {},
   "outputs": [],
   "source": [
    "def twos_complement(n, bits=8):\n",
    "    return bin(n & (2**bits - 1))  #"
   ]
  },
  {
   "cell_type": "code",
   "execution_count": null,
   "metadata": {},
   "outputs": [],
   "source": [
    "for i in range(0,128):\n",
    "    b = twos_complement(-i, 8)\n",
    "    print(i, int(b, 2),256-i,(i+256) % 256)"
   ]
  },
  {
   "cell_type": "code",
   "execution_count": null,
   "metadata": {},
   "outputs": [],
   "source": []
  }
 ],
 "metadata": {
  "kernelspec": {
   "display_name": "qdiff",
   "language": "python",
   "name": "python3"
  },
  "language_info": {
   "codemirror_mode": {
    "name": "ipython",
    "version": 3
   },
   "file_extension": ".py",
   "mimetype": "text/x-python",
   "name": "python",
   "nbconvert_exporter": "python",
   "pygments_lexer": "ipython3",
   "version": "3.8.5"
  }
 },
 "nbformat": 4,
 "nbformat_minor": 2
}
